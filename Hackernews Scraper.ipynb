{
 "cells": [
  {
   "cell_type": "markdown",
   "metadata": {},
   "source": [
    "# The Hackernews Scraper"
   ]
  },
  {
   "cell_type": "markdown",
   "metadata": {},
   "source": [
    "## Importing Libraries\n",
    "\n",
    "* Requests: To make http(s) requests\n",
    "* BeautifulSoup4: To \n",
    "* PyMongo: To interact with mongodb database"
   ]
  },
  {
   "cell_type": "code",
   "execution_count": 1,
   "metadata": {},
   "outputs": [],
   "source": [
    "import requests\n",
    "from bs4 import BeautifulSoup\n",
    "#from pymongo import MongoClient\n",
    "from pathlib import Path\n",
    "import json"
   ]
  },
  {
   "cell_type": "markdown",
   "metadata": {},
   "source": [
    "## Phase 1: Extracting the MetaData of all posts from all pages specified by the User"
   ]
  },
  {
   "cell_type": "markdown",
   "metadata": {},
   "source": [
    "First, let's create a function that returns the parsed html soup of a link given as parameter."
   ]
  },
  {
   "cell_type": "code",
   "execution_count": 2,
   "metadata": {},
   "outputs": [],
   "source": [
    "def link_to_soup(link):\n",
    "    response = requests.get(link)\n",
    "    if response.ok:\n",
    "        return BeautifulSoup(response.text, 'html.parser')\n",
    "    else:\n",
    "        return False"
   ]
  },
  {
   "cell_type": "markdown",
   "metadata": {},
   "source": [
    "Requesting to get the home page of TheHackerNews.com"
   ]
  },
  {
   "cell_type": "code",
   "execution_count": 3,
   "metadata": {},
   "outputs": [
    {
     "name": "stdout",
     "output_type": "stream",
     "text": [
      "<!DOCTYPE html>\n",
      "\n",
      "<html dir=\"ltr\" lang=\"en\">\n",
      "<head>\n",
      "<meta charset=\"utf-8\"/>\n",
      "<meta content=\"width=device-width,initial-scale=1.0\" name=\"viewport\"/>\n",
      "<link as=\"style\" crossorigin=\"anonymous\" href=\"/css/roboto.css\" rel=\"preload\"/>\n",
      "<link href=\"/css/roboto.css\" rel=\"stylesheet\"/>\n",
      "<noscript><link href=\"/css/roboto.css\" rel=\"stylesheet\"/></noscript>\n",
      "<link href=\"https://ajax.cloudflare.com\" rel=\"dns-prefetch\"/>\n",
      "<link crossorigin=\"crossorigin\" href=\"https://ajax.cloudflare.com\" rel=\"preconnect\"/>\n",
      "<link href=\"https://pagead2.googlesyndication.com\" rel=\"dns-prefetch\"/>\n",
      "<link crossorigin=\"crossorigin\" href=\"https://pagead2.googlesyndication.com\" rel=\"preconnect\"/>\n",
      "<link href=\"https://cdnjs.cloudflare.com/\" rel=\"dns-prefetch\"/>\n",
      "<link crossorigin=\"crossorigin\" href=\"https://cdnjs.cloudflare.com/\" rel=\"preconnect\"/>\n",
      "<link href=\"https://storage.googleapis.com/\" rel=\"dns-prefetch\"/>\n",
      "<link crossorigin=\"crossorigin\" href=\"https://storage.googleapis.com/\" rel=\"preconnect\"/>\n",
      "<link href=\"https://googleads.g.doubleclick.net/\" rel=\"dns-prefetch\"/>\n",
      "<link crossorigin=\"crossorigin\" href=\"https://googleads.g.doubleclick.net/\" rel=\"preconnect\"/>\n",
      "<link href=\"https://partner.googleadservices.com/\" rel=\"dns-prefetch\"/>\n",
      "<link crossorigin=\"crossorigin\" href=\"https://partner.googleadservices.com/\" rel=\"preconnect\"/>\n",
      "<link href=\"https://adservice.google.com/\" rel=\"dns-prefetch\"/>\n",
      "<link crossorigin=\"crossorigin\" href=\"https://adservice.google.com/\" rel=\"preconnect\"/>\n",
      "<link href=\"https://tpc.googlesyndication.com/\" rel=\"dns-prefetch\"/>\n",
      "<link crossorigin=\"crossorigin\" href=\"https://tpc.googlesyndication.com/\" rel=\"preconnect\"/>\n",
      "<link href=\"https://fonts.googleapis.com/\" rel=\"dns-prefetch\"/>\n",
      "<link crossorigin=\"crossorigin\" href=\"https://fonts.googleapis.com/\" rel=\"preconnect\"/>\n",
      "<link href=\"https://www.google.com/\" rel=\"dns-prefetch\"/>\n",
      "<link crossorigin=\"crossorigin\" href=\"https://www.google.com/\" rel=\"preconnect\"/>\n",
      "<link href=\"https://fonts.gstatic.com/\" rel=\"dns-prefetch\"/>\n",
      "<link crossorigin=\"crossorigin\" href=\"https://fonts.gstatic.com\" rel=\"preconnect\"/>\n",
      "<meta content=\"yes\" name=\"mobile-web-app-capable\"/>\n",
      "<meta content=\"yes\" name=\"apple-mobile-web-app-capable\"/>\n",
      "<meta content=\"#395697\" name=\"theme-color\"/>\n",
      "<meta content=\"#395697\" name=\"msapplication-navbutton-color\"/>\n",
      "<meta content=\"#395697\" name=\"apple-mobile-web-app-status-bar-style\"/>\n",
      "<link href=\"/manifest.json\" rel=\"manifest\"/>\n",
      "<meta content=\"max-snippet:-1, max-image-preview:large, max-video-preview:-1\" name=\"robots\"/>\n",
      "<meta content=\"280117418781535\" property=\"fb:app_id\"/>\n",
      "<meta content=\"The Hacker News\" property=\"og:site_name\"/>\n",
      "<link href=\"https://thehackernews.com/images/-99u3lD49_GI/W0EaiVAq7vI/AAAAAAAAxak/K_tkbQkKFq0zrPWTM0tFuvnjDrKWXnhxACLcBGAs/s100-e300/favicon.ico\" rel=\"shortcut icon\" type=\"image/x-icon\"/>\n",
      "<link href=\"https://thehackernews.com/images/-o893sCQEUNw/W0EXSdElmrI/AAAAAAAAxaY/odwRnkKSPiINIEgsNKpQgRxENwHQNVW1gCLcBGAs/s32-e300/favicon-icon.png\" rel=\"icon\" sizes=\"32x32\" type=\"image/png\"/>\n",
      "<link href=\"https://thehackernews.com/images/-o893sCQEUNw/W0EXSdElmrI/AAAAAAAAxaY/odwRnkKSPiINIEgsNKpQgRxENwHQNVW1gCLcBGAs/s64-e300/favicon-icon.png\" rel=\"icon\" sizes=\"64x64\" type=\"image/png\"/>\n",
      "<link href=\"https://thehackernews.com/images/-rVOVZW3ut4Q/XeZwEXpJ3UI/AAAAAAAA15Q/OPI7hX80GUwaRrTJ7KJtGSd_-rjDaHNVQCLcBGAsYHQ/s96-e300/thn.png\" rel=\"icon\" sizes=\"96x96\" type=\"image/png\"/>\n",
      "<link href=\"https://thehackernews.com/images/-rVOVZW3ut4Q/XeZwEXpJ3UI/AAAAAAAA15Q/OPI7hX80GUwaRrTJ7KJtGSd_-rjDaHNVQCLcBGAsYHQ/s192-e300/thn.png\" rel=\"icon\" sizes=\"192x192\" type=\"image/png\"/>\n",
      "<link href=\"https://thehackernews.com/images/-rVOVZW3ut4Q/XeZwEXpJ3UI/AAAAAAAA15Q/OPI7hX80GUwaRrTJ7KJtGSd_-rjDaHNVQCLcBGAsYHQ/s256-e300/thn.png\" rel=\"icon\" sizes=\"256x256\" type=\"image/png\"/>\n",
      "<link href=\"https://thehackernews.com/images/-o893sCQEUNw/W0EXSdElmrI/AAAAAAAAxaY/odwRnkKSPiINIEgsNKpQgRxENwHQNVW1gCLcBGAs/s76-e300/favicon-icon.png\" rel=\"apple-touch-icon\" sizes=\"76x76\"/>\n",
      "<link href=\"https://thehackernews.com/images/-rVOVZW3ut4Q/XeZwEXpJ3UI/AAAAAAAA15Q/OPI7hX80GUwaRrTJ7KJtGSd_-rjDaHNVQCLcBGAsYHQ/s120-e300/thn.png\" rel=\"apple-touch-icon\" sizes=\"120x120\"/>\n",
      "<link href=\"https://thehackernews.com/images/-rVOVZW3ut4Q/XeZwEXpJ3UI/AAAAAAAA15Q/OPI7hX80GUwaRrTJ7KJtGSd_-rjDaHNVQCLcBGAsYHQ/s152-e300/thn.png\" rel=\"apple-touch-icon\" sizes=\"152x152\"/>\n",
      "<link href=\"https://thehackernews.com/images/-rVOVZW3ut4Q/XeZwEXpJ3UI/AAAAAAAA15Q/OPI7hX80GUwaRrTJ7KJtGSd_-rjDaHNVQCLcBGAsYHQ/s167-e300/thn.png\" rel=\"apple-touch-icon\" sizes=\"167x167\"/>\n",
      "<link href=\"https://thehackernews.com/images/-rVOVZW3ut4Q/XeZwEXpJ3UI/AAAAAAAA15Q/OPI7hX80GUwaRrTJ7KJtGSd_-rjDaHNVQCLcBGAsYHQ/s180-e300/thn.png\" rel=\"apple-touch-icon\" sizes=\"180x180\"/>\n",
      "<meta content=\"en_US\" property=\"og:locale\"/>\n",
      "<title>The Hacker News - Most Trusted Cyber Security and Computer Security Analysis</title>\n",
      "<meta content=\"The Hacker News - Most Trusted Cyber Security and Computer Security Analysis\" name=\"twitter:title\" property=\"og:title\"/>\n",
      "<meta content=\"The Hacker News is the most trusted independent news service focused on publishing breaking news and high quality articles on cyber security, hacking, information security, computer security, cybercrime, ethical hacking and technology.\" name=\"description\"/>\n",
      "<meta content=\"The Hacker News is the most trusted independent news service focused on publishing breaking news and high quality articles on cyber security, hacking, information security, computer security, cybercrime, ethical hacking and technology.\" property=\"og:description\"/>\n",
      "<meta content=\"The Hacker News is the most trusted independent news service focused on publishing breaking news and high quality articles on cyber security, hacking, information security, computer security, cybercrime, ethical hacking and technology.\" name=\"twitter:description\"/>\n",
      "<meta content=\"website\" property=\"og:type\"/>\n",
      "<meta content=\"https://thehackernews.com/images/-AaptImXE5Y4/WzjvqBS8HtI/AAAAAAAAxSs/BcCIwpWJszILkuEbDfKZhxQJwOAD7qV6ACLcBGAs/s728-e100/the-hacker-news.jpg\" name=\"twitter:image\" property=\"og:image\"/>\n",
      "<link href=\"https://thehackernews.com/\" rel=\"canonical\"/><link href=\"https://thehackernews.com/?m=1\" media=\"only screen and (max-width: 640px)\" rel=\"alternate\"/><meta content=\"https://thehackernews.com/\" property=\"og:url\"/><meta content=\"@TheHackersNews\" name=\"twitter:creator\"/><meta content=\"@TheHackersNews\" name=\"twitter:site\"/><meta content=\"thehackernews.com\" name=\"twitter:domain\"/><meta content=\"summary_large_image\" name=\"twitter:card\"/><meta content=\"1251386282\" property=\"fb:admins\"/><meta content=\"172819872731894\" property=\"fb:pages\"/><link href=\"https://feeds.feedburner.com/TheHackersNews\" rel=\"alternate\" title=\"The Hacker News RSS Feeds\" type=\"application/rss+xml\"/><link href=\"https://thehackernews.com/feeds/posts/default\" rel=\"alternate\" title=\"The Hacker News RSS Feeds\" type=\"application/atom+xml\"/>\n",
      "<meta content=\"cyber security news, cyber news, cyber security news today, cyber security updates, cyber updates, hacker news, hacking news, software vulnerability, cyber attacks, data breach, ransomware malware, how to hack, network security, information security, the hacker news, computer security\" name=\"keywords\"/>\n",
      "<style>\n",
      "</style>\n",
      "<style>\n",
      "  * {\n",
      "    scrollbar-width: auto;\n",
      "    scrollbar-color: #e0e0f0 #ffffff;\n",
      "  }\n",
      "  *::-webkit-scrollbar {\n",
      "    width: 15px;\n",
      "  }\n",
      "  *::-webkit-scrollbar-track {\n",
      "    background: #ffffff;\n",
      "  }\n",
      "  *::-webkit-scrollbar-thumb {\n",
      "    background-color: #e0e0f0;\n",
      "    border-radius: 15px;\n",
      "    border: 2px solid #ffffff;\n",
      "  }\n",
      "article,aside,details,figcaption,figure,footer,header,hgroup,img,main,menu,nav,section{display:block}.cf:after,.clear:after,.separator:after{clear:both}.articlebody a,a,a:active,a:focus,a:hover,a:visited{text-decoration:none}.banners img{max-width:100%}.drop-menu,.latestposts,ol,ul{list-style:none}a,abbr,acronym,address,applet,article,aside,audio,b,big,blockquote,body,canvas,caption,center,cite,code,dd,del,details,dfn,div,dl,dt,em,embed,fieldset,figcaption,figure,footer,form,h1,h2,h3,h4,h5,h6,header,hgroup,html,i,iframe,img,ins,kbd,label,legend,li,mark,menu,nav,object,ol,output,p,pre,q,ruby,s,samp,section,small,span,strike,strong,sub,summary,sup,table,tbody,td,tfoot,th,thead,time,tr,tt,u,ul,var,video{border:0;font:inherit;vertical-align:baseline;margin:0;padding:0}@font-face{font-family: 'font_icon';font-weight: normal;font-display: swap;font-style: normal;src: url(data:application/font-woff;base64,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) format('woff');}.icon-font {font-family: \"font_icon\"; font-style: normal; font-weight: normal; speak: none; display: inline-block; text-decoration: inherit; width: 1em; text-align: center; font-variant: normal; text-transform: none; line-height: 1em;}.sidebar-push{width:300px;height:250px}.sidebar-push{}.home-feed-ga{margin-bottom:30px;}.infeed-mobile{margin-bottom:40px;}.articlebody h2,.articlebody h3{font-weight:900}b,strong{font-weight:500}blockquote,q{quotes:none}blockquote:after,blockquote:before,q:after,q:before{content:none}table{border-collapse:collapse;border-spacing:0}body{margin:0;padding:0;-webkit-tap-highlight-color:transparent;-webkit-backface-visibility:hidden;position:relative;cursor:default;background:#f0f0fb;color:#2b2d41;font-size:16px;line-height:27px;font-weight: 400;}body,html{font-variant-numeric: tabular-nums;font-kerning: normal;scroll-behavior:auto;font-family:\"Roboto\",-apple-system, BlinkMacSystemFont, \"Segoe UI\",\"Oxygen\", \"Ubuntu\", \"Cantarell\", \"Fira Sans\", \"Droid Sans\", \"Helvetica Neue\", sans-serif;-moz-osx-font-smoothing: grayscale; -webkit-font-smoothing: antialiased !important; -moz-font-smoothing: antialiased !important; text-rendering: optimizelegibility !important;}.tr-caption-container .tr-caption{font-size: 0.9em; color:#555555; padding-bottom: 20px;}table,td,th{border:1px solid #fff}i,em{font-style:italic}*,::after,::before{-moz-box-sizing:border-box;-webkit-box-sizing:border-box;box-sizing:border-box;outline:0;margin: 0; padding: 0; word-wrap: break-word;}a,a:visited{color:#356ae6;-webkit-transition:opacity .2s ease-in-out 0s;-moz-transition:opacity .2s ease-in-out 0s;transition:opacity .2s ease-in-out 0s}img{-o-transition:all .5s ease-in-out;-moz-transition:all .5s ease-in-out;-webkit-transition:all .5s ease-in-out;opacity:1;transition:opacity .3s}.cf:after,.cf:before,.clear:after,.clear:before,.separator:after,.separator:before{display:table;content:\" \"}a img{border:none}img[data-echo]{opacity:0}.separator a{cursor:default;margin-right:0!important}.separator a img{outline:0;border:0}.separator a img:active,.separator a img:focus,.separator a:active,.separator a:focus{outline:0;-moz-outline-style:none}.separator{margin-left:-25px;margin-right:-25px;margin-bottom:20px}.video-container{margin:28px 0;position:relative;padding-bottom:56.25%;padding-top:30px;height:0;overflow:hidden}.video-container embed,.video-container iframe,.video-container object{position:absolute;top:0;left:0;width:100%;height:100%}::-moz-selection{background-color:#ffdb4d}::selection{background-color:#ffdb4d}::-o-selection{background-color:#ffdb4d}::-ms-selection{background-color:#ffdb4d}::-webkit-selection{background-color:#ffdb4d}.articlebody img{width:inherit;max-width:100%;height:auto;content-visibility: auto}.articlebody a{color:#356ae6;-moz-transition: all .2s linear; -o-transition: all .2s linear; -webkit-transition: all .2s linear; transition: all .2s linear;}.articlebody a:link,.articlebody a:visited{outline:0;text-decoration:none;color:#356ae6}.articlebody a:hover{text-decoration:underline}.articlebody h2,.articlebody h3{font-size: 20px; line-height: 33px;}.articlebody h4{font-size:18px; line-height: 30px;font-weight: 500}.articlebody ol,.articlebody ul{list-style-type: disc; margin: 28px 0 28px 50px; display: block;}.articlebody ol li,.articlebody ul li{margin-bottom:10px;}@-moz-document url-prefix() {.articlebody br {margin: 8px!important}}.articlebody br, .articlebody p{content:' '; display:block;margin: 28px 0;}.articlebody blockquote{background-color:#f9f9f9; padding: 28px;}.articlebody .tr-caption-container, .tr-caption-container td, .tr-caption-container th{border: none!important;}.articlebody table {margin: 20px 0;font-size: 15px; color:#555555;border: 1px solid #202124;border-collapse: collapse; border-width: 0; display: block; overflow: auto;}.articlebody td, th {border: 1px solid #202124; padding: 5px;}.articlebody blockquote br{display:block;content:\" \";margin-top:6px;margin-bottom:20px}.high{position:relative}.sidebar{margin: 28px 0 15px; height:300px;}.pop-article{margin-bottom:20px}.side-pop-image{overflow:hidden;float:left;width:72px;background: linear-gradient(rgb(242, 242, 242) 66%, rgba(242, 242, 242, 0));}.pop-image img{width:72px;height:72px;border-radius:3px}.pop-desc{padding-left: 16px; overflow: hidden; line-height: 25px; font-weight: 500; font-size: 15px; margin-top: -3px; display: inline-block; float: left; max-width: 212px;}.pop-title{color:#444}.pop-link{text-decoration:none;display:block}a:hover .pop-title{text-decoration:underline;color:#395697}.posttitle{text-align:left;font-size:.95em;color:#555;margin-top:-5px;font-weight:600}.latestposts{border-bottom:1px solid #eee;float:left;padding:10px 10px 10px 0;overflow:hidden;text-align:left;line-height:.5em;color:#626161}.blog-pager-newer-link-mobile,.blog-pager-older-link-mobile{-webkit-appearance:none;font-size:1rem;text-shadow:none;line-height:1.2;padding:10px 16px;color:#fff!important;white-space:nowrap;text-overflow:ellipsis;text-decoration:none!important;text-align:center;background:#3d5a99;position:relative;outline:0;cursor:pointer}.blog-pager-older-link-mobile{border:3px solid #3d5a99;border-radius:3px;margin:20px 0 20px 20px;float:right}.blog-pager-newer-link-mobile{border:3px solid #3d5a99;border-radius:3px;margin:20px 20px 20px 0;float:left}.blog-pager-newer-link-mobile:hover,.blog-pager-older-link-mobile:hover{-webkit-transform:translateY(-1px);transform:translateY(-1px);color:#fff}.blog-pager-newer-link-mobile i{margin-right:4px}.blog-pager-older-link-mobile i{margin-left:4px}.avimg{width:100%;margin:0 auto}.zoho-box{margin:28px 0 15px;width: 300px; height: 250px;}.zoho-box img{width:100%;height:auto;margin:0 auto}.body-post{margin-bottom:40px}.story-link,.story-link:hover{text-decoration:none;display:block}.f-menu-list li a:hover,.story-link:hover .home-title{text-decoration:underline}.img-ratio{padding-bottom: 52.2875817%; position: relative;background: linear-gradient(rgb(242, 242, 242) 66%, rgba(242, 242, 242, 0));}.home-img{width:100%;float:left;overflow:hidden}.home-img img{max-width:100%;border-radius:3px;position: absolute;top: 0; left: 0; width: 100%; height: 100%; z-index: 2;}.home-right{float:left;padding:10px 0;width:100%}.home-title{color: #333; font-weight: 900; line-height: 37px; font-size: 23px; margin-bottom: 15px;}.home-desc{font-size: 15px; line-height:25px;color:#444; padding: 0; border-left: 0;overflow: hidden; display: -webkit-box; -webkit-line-clamp:2; -webkit-box-orient: vertical;}.item-label{color:#555555;font-size:13px;margin: 0 0 5px 2px;}.item-label span{margin-left:15px}.item-label i{margin-right:7px}div.resize-and-crop{overflow:hidden;display:-moz-inline-block;display:inline-block;position:relative}.drop-menu,div.resize-and-crop img{position:absolute}.categ,.categ a:hover,.categ a:link,.categ a:visited,.categ h3,.tags{text-transform:capitalize;font-size:.97em;color:#555555;text-decoration:none;display:none}.header{background:#395697;height:60px;width:100%}.top-bar{background:#2c4886;font-size:14px;display:none}.top-bar-box{max-width:1120px;margin:0 auto;padding:0 25px}.top-follow{float:right;margin-left:30px;color:#dae5ff}.top-follow a{color:#fff;padding:0 15px;display:inline-block}.logo-area{max-width:1120px;margin:0 auto;padding:0 25px}.logo-box{float:left;width:65%;height:60px;line-height:60px}.sub-button{font-weight: 500;color: #4a380e!important; float: right; margin: 18.5px 0; display: none; background: #ffdb4d; padding: 0 12px; border-radius: 3px; height: 40px; line-height: 40px;}.m-m-icon,.close-m-i{color: #fff}.m-menu-more,.m-search-here{float:right;line-height:60px;height:60px;font-size:20px}.logo-box img{width:425px;max-width:100%;display:inline-block;vertical-align:middle}.m-menu-box,.menu-box{max-width:1120px;margin:0 auto}.m-menu-more{padding:0 0 0 25px;transition:background .1s ease-in-out}.m-search-here{color:#fff;padding:0 10px 0 0;transition:background .1s ease-in-out}.m-menu-more,.m-search-here{display:block}.eight_plus,.menu-box{display:none}.menu{background:#fff;height:46px;font-size:15px;color:#555555;box-shadow:0 4px 0 rgba(0,0,0,.08);border-bottom:4px solid #ffdb4d}.m-menu-ul li,.menu-ul li{float:left;letter-spacing:.3px;border-bottom-width:4px;border-bottom-style:solid;transition:border .1s ease-in-out;white-space:nowrap;line-height:46px;height:46px}.menu-ul{float:left}.m-menu-ul a,.menu-ul a{color:#333;display:inline-block;}.menu-ul li{padding:0 25px;border-color:transparent}.show-menu{display:inline-block}.menu-ul li:hover{border-bottom-color:#3b5998}.m-menu-ul{float:left;width:100%}.m-menu-ul li{border-color:transparent;width:33.33%;text-align:center;border-right:1px solid #eee}.m-menu-ul li i{margin-right:4px}.menu-more,.search-here{float:right;line-height:46px;height:46px;padding:0 25px;display:inline-block;transition:background .1s ease-in-out}.menu-more:hover{transform:scale(1.1)}.menu-more i,.search-here i{margin-left:10px;font-size:20px;color: #555555}.search-box{background:#fafafa;display:none}.search-b{min-height:30px;max-width:1126px;margin:0 auto;padding:10px 20px}.search-b input{width:100%;border:1px solid #ddd;outline:0;background:#fff;padding:10px;border-radius:2px;color:#555555}::-webkit-input-placeholder{color:#555555}:-ms-input-placeholder{color:#555555}::-moz-placeholder{color:#555555;opacity:1}:-moz-placeholder{color:#555555;opacity:1}.drop-menu{-webkit-transition:all .3s ease;transition:all .3s ease;border:1px solid #eee;z-index:2;padding:0;margin-left:-90px;background:#fff;display:none}.drop-menu li{display:block;min-width:180px;padding:0 20px;border-bottom:1px solid #eee;line-height:45px}.right-box,.sharebelow-linkedin,.sharebelow-twitter{display:none}.adsbygoogle{display:block}.google{display:block;margin:0 auto;position:relative;padding:20px 10px;min-height:290px;}.below-google{}.home-google { margin: 0 auto 35px; position: relative;}.main-box{margin:0 auto;box-shadow:none;border-radius:0;max-width:758px}.error_css img,.main{max-width:100%;margin:0 auto}.error_css img{padding:30px}.main{padding:25px 0 0;background:#fff}.main-left-right{padding:0 25px;}.left-box{width:100%;padding:0;float:none;margin:0 auto}.right-box{width:100%;padding:15px 0;float:none}.story-title-all{display:none;}.story-title{font-weight:900;line-height:38px;font-size:25px;padding:0 25px;letter-spacing:-.3px}.static_title a,.story-title a{color:#333}.static_title{padding-bottom:10px;margin-bottom:10px;font-weight:900;line-height:45px;font-size:35px}.postmeta{color:#555555;font-size:14px;line-height:40px;margin: 0 0 8px 2px;}.postmeta i{margin-right:6px}.author,.author a,.author a:active,.author a:focus,.author a:hover{color:#555555;margin-right:15px;}.sharebelow{font-size:15px;margin:25px 0 40px;text-align:center;}.sharebelow div{margin:0 10px 10px 0;float:left}.sharebelow div.sharebelow-facebook a{background:#3f51b5}.sharebelow div.sharebelow-twitter a{background:#1da1f2}.sharebelow div.sharebelow-linkedin a{background:#007bb6}.sharebelow div a,.sharebelow div i{display:inline-block;line-height:30px;height:30px}.sharebelow-comment{margin-right:0!important}.sharebelow div.sharebelow-comment a{background:#47525c;width:100%}.sharebelow a:hover{-webkit-transform:translateY(-3px);transform:translateY(-3px)}.f-m-b:hover,.float-share-li:hover,.social-box i:hover{transform:scale(1.1)}.sharebelow div i{background:rgba(0,0,0,.1);border-right:1px solid rgba(0,0,0,.1);border-radius:3px 0 0 3px;left:0;position:absolute;text-align:center;top:0;font-size:16px;width:30px;vertical-align:text-bottom}.sharebelow div a{color:#fff;padding:0 8px 0 38px;border-radius:3px;position:relative}.float-share{-webkit-transition:top .8s;-moz-transition:top .8s;-ms-transition:top .8s;-o-transition:top .8s;transition:top .8s;position:fixed;top:390px;left:10px;display:none}.float-share-li,.fs-note{text-align:center;width:40px;display:block}.float-share-li{color:#fff!important;height:40px;line-height:40px;font-size:20px;border-radius:3px;margin-bottom:10px}.fs-fb{background:#3b5998}.fs-tw{background:#04aceb}.fs-ln{background:#3a9bdc}.fs-more{background:#f55a4e}.fs-com{background:#47525c}.fs-note{font-size:11px;letter-spacing:.7px;height:25px;line-height:25px}.share-close-modal{font-size:20px;border-radius:100%}.fixed-r{-webkit-transition:top .8s;-moz-transition:top .8s;-ms-transition:top .8s;-o-transition:top .8s;transition:top .8s;top:70px}.mobile-share{display:inline-block;position:fixed;bottom:20px;right:20px;z-index:99999;visibility:hidden}.mobile-s{width: auto; height: 33px; line-height: 34px; margin-bottom: 0; text-transform: uppercase; letter-spacing: 1.5px; font-size: 14px; border-radius: 4px; padding: 0 10px; font-weight: 500;}.share-modal{display:none;padding:20px;left:0;position:fixed;top:0;height:100%;width:100%;background:#f7f7f7;overflow:auto;z-index:999999}.share-m-wrap{max-width:500px;margin:0 auto}.share-close-modal{text-decoration:none;background:#47525c;color:#fff;padding: 10px 14px;margin-bottom:20px;display:inline-block;float:right}.more-share,.share-show-modal{display:inline-block;border-radius:3px;position:relative}.share-show-modal{color:#fff;padding:0 8px 0 38px;line-height:30px;height:30px;background:#e25544}.share-model aside{max-width:300px;margin:0 auto}.more-share{margin-bottom:10px;color:#fff!important;padding:8px 12px 8px 45px;line-height:20px;width:100%;text-align:left}.m-fm img,.more-share i{border-right:1px solid rgba(0,0,0,.1);border-radius:3px 0 0 3px;left:0;top:0;font-size:19px;height:36px;line-height:36px;width:36px;vertical-align:text-bottom;display:inline-block}.footer-boxh4,.m-fm img,.more-share i,.social-box,.wrap{text-align:center}.more-share i{background:rgba(0,0,0,.1);position:absolute}.m-fb{background:#4267b2}.m-ln{background:#007bb6}.m-tw{background:#1da1f2}.m-rd{background:#fe5b1f}.m-gp{background:#db4437}.m-hn{background:#fb9500}.m-em{background:#515151}.m-wa{background:#00a500}.m-tg{background:#64a9dc}.m-fm{background:#027df0}.m-fm img{background:rgba(0,0,0,.1);position:absolute}.below-post-box,.deal-box{max-width:758px;margin:0 auto;border-radius:0;}.sponsor{display: block;text-transform:uppercase;font-size:11px;letter-spacing:1.5px;line-height:22px;padding:0 2px;color:#555555!important}.below-post-box{padding:25px 25px 0}.deal-box{padding:25px 25px 25px}.below-post,.deals{background:#fff}.latest{width:47.5%;float:left;margin-right:5%;margin-bottom:15px}.latest:hover{-webkit-transform:translateY(-6px);transform:translateY(-6px)}.latest div img{width: 100%;max-width:100%;border-radius:3px}.latest-h3{font-weight:500;font-size:14px;line-height:21px;padding:10px 0 5px;color:#333}.latest-desc,.price-tag{color:#555555;line-height:21px}.latest-desc{font-size:14.4px;display:none}.latest-title{margin:20px 0;border-bottom:4px solid #333;font-size:23px;padding:0 0 2px;font-weight:900;display:inline-block}.latest:nth-child(2n+0){margin-right:0}.latest-link{display:block}.pt-new,.pt-old{display:none}.latest-link:hover{text-decoration:none}.price-tag{font-size:14.4px}.pt-old{margin-right:5px}.pt-new{font-weight:500}.comments{display:none}.comment-box{min-height:1px;padding:25px;max-width:100%;margin:0 auto}.email-box,.footer-box{max-width:1120px;margin:0 auto}.email-outer{background:#395697;border:10px solid #2c4886}.email-box{padding:25px;box-shadow:none;border-radius:0}.email-box form{width:100%;max-width:500px;margin:0 auto}.email-box-h3{font-size:25px;font-weight:500;color:#fff;line-height: 35px}.email-box p{color:#fff;padding:15px 0 18px;line-height:24px;font-size:.95em}.email-input label{}.visuallyhidden{border: 0; clip: rect(0 0 0 0); height: 1px; margin: -1px; overflow: hidden; padding: 0; position: absolute; width: 1px}.email-input{position:relative;height:50px;overflow:hidden;-webkit-border-radius:3px;-moz-border-radius:3px;border-radius:3px;background-color:#fff}.email-input input{width:100%;height:100%;display:block;padding:0 70px 0 20px;color:#555555;font-size:17px;outline:0;-webkit-box-shadow:none;-moz-box-shadow:none;box-shadow:none;border:none}.email-input button{-webkit-appearance:button;width:60px;height:40px;top:5px;right:5px;position:absolute;background-color:#00ace5;-webkit-transition:background-color .3s ease;-o-transition:background-color .3s ease;-moz-transition:background-color .3s ease;transition:background-color .3s ease;will-change:background-color;background-image:url(data:image/png;base64,iVBORw0KGgoAAAANSUhEUgAAAAkAAAAQCAQAAABuQZ3IAAAAiUlEQVQYlVXQsQpBARQG4CMlSXkBo+1mUBbZ5NkMRmWVVUYZKGWSt5CSwWS5yfQZz9XZvuE//zmh76gjcsIZV+0qdd1w0koKPQ/sNZJC4YWtelIYeGOtlhRGSizVKstNfDCv0tQXs4SxEovMGnpjlfF9L2yyRM8Tu6zadcdJ8//sS14oQuHw/5wfVJy3keRVhzoAAAAASUVORK5CYII=);background-repeat:no-repeat;background-position:52% center;-webkit-border-radius:3px;-moz-border-radius:3px;border-radius:3px;border:0;-webkit-box-shadow:none;-moz-box-shadow:none;box-shadow:none;outline:0;padding:0;display:block;cursor:pointer}.footer-box-h4,.footer-box-h5{font-weight:500;border-bottom:3px solid #ffdb4d}.email-input button:hover{background-color:#00bfff}.e-book{display:none}footer{padding:30px 0 0;background:#fcfcfc}.footer-stuff{padding:10px 25px}.footer-box-h4{margin:0 auto 30px;max-width:78px;font-size:16px}.social-box{width:20%;padding:10px;display:inline-block;float:left}.social-box i{color:#fff;border-radius:5px;height:40px;line-height:40px;width:40px;box-shadow:0 3px 3px #bbb}.s-tw i{background-color:#1da1f2}.s-fb i{background-color:#4267b2}.s-in i{background-color:#007bb6}.s-it i{background:#f09433;background:-moz-linear-gradient(45deg,#f09433 0,#e6683c 25%,#dc2743 50%,#cc2366 75%,#bc1888 100%);background:-webkit-linear-gradient(45deg,#f09433 0,#e6683c 25%,#dc2743 50%,#cc2366 75%,#bc1888 100%);background:linear-gradient(45deg,#f09433 0,#e6683c 25%,#dc2743 50%,#cc2366 75%,#bc1888 100%);filter:progid:DXImageTransform.Microsoft.gradient( startColorstr='#f09433', endColorstr='#bc1888', GradientType=1 )}.s-yt i{background-color:#ce332d}.s-gp i{background-color:#db4437}.sb-text{padding:10px 0 0;display:none;color:#555555;font-size:14.4px}.f-menu-box{margin:35px 0 0}.f-menu-cl-1,.f-menu-cl-2,.f-menu-cl-3,.f-menu-cl-4{float:left;color:#555555;margin-bottom:20px}.f-menu-cl-1,.f-menu-cl-2{width:50%;display:block}.f-menu-cl-3{width:50%;display:none}.f-menu-cl-4{width:100%;display:block}.f-m-b{display:block;color:#555555!important}.footer-box-h5{font-size:16px;color:#333;margin-bottom:5px;display:inline-block}.f-menu-list li{padding:1px 0}.f-menu-list li a{font-size:14.4px;color:#555555}.btn-close,.button a{text-decoration:none}.f-menu-bt{border:1px solid #bebebe;padding:5px 10px 5px 30px;background:#eee;border-radius:3px;margin:20px 0;font-size:15px;max-width:450px}.f-menu-bt i{margin-right:10px}.footer-note{font-size:12px;padding:15px 0 0;color:#555555;border-top:1px solid #ddd}.sidebar-ga{max-width:300px;height:600px}.overlay{display:none;position:fixed;top:0;height:100%;width:100%;overflow-y:scroll;z-index:99;background:#395697;background:-moz-linear-gradient(0deg,rgba(57,86,151,1) 0,rgba(19,42,93,1) 100%);background:-webkit-linear-gradient(0deg,rgba(57,86,151,1) 0,rgba(19,42,93,1) 100%);background:linear-gradient(0deg,rgba(57,86,151,1) 0,rgba(19,42,93,1) 100%);filter:progid:DXImageTransform.Microsoft.gradient(startColorstr=\"#395697\", endColorstr=\"#132a5d\", GradientType=1)}@keyframes slide-up-fade-in{0%{opacity:0;transform:translate(0,40px)}100%{opacity:1;transform:translate(0,0)}}@-moz-keyframes slide-up-fade-in{0%{opacity:0;-moz-transform:translate(0,40px)}100%{opacity:1;-moz-transform:translate(0,0)}}@-webkit-keyframes slide-up-fade-in{0%{opacity:0;-webkit-transform:translate(0,40px)}100%{opacity:1;-webkit-transform:translate(0,0)}}@-o-keyframes slide-up-fade-in{0%{opacity:0;-o-transform:translate(0,40px)}100%{opacity:1;-o-transform:translate(0,0)}}@-ms-keyframes slide-up-fade-in{0%{opacity:0;-ms-transform:translate(0,40px)}100%{opacity:1;-ms-transform:translate(0,0)}}.slide-up-fade-in{animation:slide-up-fade-in ease .3s;animation-iteration-count:1;transform-origin:50% 50%;animation-fill-mode:forwards;-webkit-animation:slide-up-fade-in ease .3s;-webkit-animation-iteration-count:1;-webkit-transform-origin:50% 50%;-webkit-animation-fill-mode:forwards;-moz-animation:slide-up-fade-in ease .3s;-moz-animation-iteration-count:1;-moz-transform-origin:50% 50%;-moz-animation-fill-mode:forwards;-o-animation:slide-up-fade-in ease .3s;-o-animation-iteration-count:1;-o-transform-origin:50% 50%;-o-animation-fill-mode:forwards;-ms-animation:slide-up-fade-in ease .3s;-ms-animation-iteration-count:1;-ms-transform-origin:50% 50%;-ms-animation-fill-mode:forwards}.wrap{color:#e9e9e9;max-width:700px;margin:0 auto;padding:5px 25px}.button{font-size:20px}.btn-open:hover:after{color:#34518c}.btn-close:hover:after{color:#34518c}.o-top cf{min-height:50px;border-bottom:1px solid #4868ad}.btn-close{border-radius:100%;color:#fbc458;line-height:40px;font-size:30px;font-weight:100;float:right}.o-h5,.o-menu-h5{font-size:17px;font-weight:500;text-align:left}.o-menu-box{padding:10px 0}.o-menu-left,.o-menu-right{float:left;width:50%;padding:15px}.o-menu-h5{color:#fff;margin-bottom:10px}.o-menu li{text-align:left;margin-bottom:3px}.o-contact a,.o-menu li a{color:#c0d2fe;display:block}.o-follow a,.o-sub a{float:left;display:inline-block;color:#fff}.o-contact a:hover,.o-menu li a:hover{text-decoration:underline}.o-follow{padding:0 10px}.o-follow a{width:35px;border:1px solid #fff;height:35px;line-height:35px;border-radius:100%;margin-right:13px;margin-bottom:15px}.o-h5{color:#fff;margin-bottom:10px;padding:0 15px}.o-contact{text-align:left;margin:5px 15px 20px}.o-contact-icon{border:1px solid #a5baed;border-radius:100%;text-align:center;width:50px;height:50px;line-height:50px;font-size:23px;background:#6f86bd;color:#fff;float:left;margin-right:15px}.gap{height:0}.o-sub a{width:100%;margin-bottom:15px;background:#6f86bd;border-radius:4px;margin-right:2%;border:1px solid #a5baed;padding:3px 10px;text-align:left}.o-sub{margin:15px}.av-side-box{text-align:right}.ad_one{}\n",
      "\n",
      "\n",
      "@media only screen and (min-width :480px){.sharebelow-comment{width:auto}.sharebelow-linkedin, .sharebelow-twitter{display:inline-block}.home-img{width:30%}.home-right{width:70%;padding:0 0 0 20px}.f-menu-cl-1,.f-menu-cl-2,.f-menu-cl-3{width:33.33%}.f-menu-cl-3{display:block}.f-menu-cl-4{width:100%}}@media only screen and (min-width:730px){.menu-box{display:block}.m-menu-box{display:none}.home-img{width:42%}.home-right{width:58%;padding:0 0 0 20px}.home-title{font-size: 20px; line-height: 32px;margin-top:-8px; margin-bottom: 5px;}.top-bar{display:block}.menu{border-bottom:none}.header{height:auto}.logo-box{height:72px;line-height:72px;width: 50%}.m-menu-more,.m-search-here{display:none}.sb-text,.sub-button{display:block}.separator{margin-left:0;margin-right:0}.story-title{line-height:45px;font-size:30px}.o-sub a{width:31.33%;text-align:center}.social-box{width:33.33%}.social-box i{font-size:25px;width:50px;height:50px;line-height:50px}.f-menu-cl-1,.f-menu-cl-2,.f-menu-cl-3,.f-menu-cl-4{width:33.33%}.f-menu-cl-3{display:none}}@media only screen and (min-width:850px){.latest,.latest:nth-child(2n+0){margin-right:1.5%}.latest-desc,.right-box{display:block}body{font-size:16px;line-height:27px;}.gap{height:30px}.below-post-box,.deal-box,.main-box{max-width:1120px}.left-box{width:calc(100% - 300px);padding:0 3.4% 0 0;float:left}.right-box{width:300px;padding:0;float:left}.google{padding:20px 35px;min-height:130px;}.latest{width:23.87%;float:left;margin-bottom:30px}.latest:nth-child(4n+0){margin-right:0}.latest-h3{font-size:16px;line-height:23px;min-height:50px;}.mobile-share{display:none;visibility:hidden}.social-box{width:20%}.f-menu-cl-1,.f-menu-cl-2,.f-menu-cl-4{width:25%}.f-menu-cl-3{width:25%;display:block}.pt-old{display: block}}@media only screen and (min-width :1200px){.float-share,.right-box{display:block}.main-left-right{padding:0 29px 19px}.top-bar-box{padding:0 29px}.main{padding:45px 0 0}.left-box{width:762px;padding:0 32px 0 0;float:left}.right-box{width:300px;float:right;padding:0}.story-title{line-height: 48px; font-size: 33px; padding: 0 29px;}.below-post-box{padding:30px 29px 0}.deal-box{padding:30px 29px}.comment-box{padding:20px 29px 29px}.f-menu-cl{width:25%}.footer-stuff{padding:19px 29px 15px}.logo-area,.menu-more,.menu-ul li,.search-here{padding:0 29px}.eight_plus{display:inline-block}}@media print{@page{margin:2cm}.below-post,.comments,.deals,.email-outer,.float-share,.footer,.google,.header,.menu,.mobile-share,.overlay,.right-box,.search-box,.sharebelow,.tags{display:none!important}h1,h2,h3,h4,h5,h6{page-break-after:avoid}img,ul{page-break-inside:avoid}.articlebody a:link:after{content:\" (\"attr(href)\") \";color:#555555;font-size:90%}}\n",
      ".is-visible { display: block; }\n",
      "sup { position: relative; bottom: 1ex; font-size: 80%;margin:0 auto}\n",
      ".sub-style i {margin-right: 5px}\n",
      " \n",
      ".header_unit,{width: 300px; height: 250px;margin:0 auto}\n",
      ".article_unit, .article_unit728, .article_unit300{width: 300px; height: 250px;margin:0 auto}\n",
      ".ad_two,.ad_three{padding:15px 0;margin: 0 -25px;}\n",
      ".side-bar-in{width:300px; height:250px;margin:0 auto}\n",
      "@media only screen and (min-width:340px){\n",
      ".header_unit{width: 336px; height: 280px;margin:0 auto}\n",
      ".article_unit, .article_unit728, .article_unit300{width: 336px; height: 280px;margin:0 auto}\n",
      "}\n",
      "\n",
      "@media only screen and (min-width:740px){\n",
      ".header_unit{width: 728px; height: 90px;margin:0 auto}\n",
      ".article_unit{width: 336px; height: 280px;margin:0 auto}\n",
      ".article_unit728{width: 728px; height: 90px;margin:0 auto}\n",
      ".article_unit300{width: 300px; height: 250px;margin:0 auto}\n",
      ".ad_two,.ad_three{padding:15px 0;margin:0;}\n",
      "}\n",
      "\n",
      "@media only screen and (min-width:1024px){\n",
      ".header_unit{width: 970px; height:250px;margin:0 auto}\n",
      ".article_unit{width: 336px; height: 280px;margin:0 auto}\n",
      "}\n",
      ".ad-300 img, .ad-700 img {margin: 0 auto;display:block;}\n",
      ".below-side{width:300px;height:250px;display:block;}\n",
      ".av-pixel{visibility:hidden}\n",
      ".sidefix{width:300px;height:250px}\n",
      ".av-sidebar,.below-google{content-visibility:auto}\n",
      "video {width: 100%;}\n",
      "pre code {display: block; background: none; white-space: pre; -webkit-overflow-scrolling: touch; overflow-x: scroll; max-width: 100%; min-width: 100px; background: #212121; color: #fff; padding: 15px;font-family: Courier;}\n",
      ".superscript { font-size: .83em; line-height: 0.5em; vertical-align: baseline; position: relative; top: -0.4em; }\n",
      "img.lazyload{opacity: 0.1; will-change: opacity;transition: all 0.3s}\n",
      "img.lazyloaded{opacity: 1}\n",
      ".articlebody table{display: table;}\n",
      "</style>\n",
      "</head>\n",
      "<body>\n",
      "<header class=\"header clear\">\n",
      "<div class=\"top-bar cf\">\n",
      "<div class=\"top-bar-box cf\">\n",
      "<span class=\"top-follow\"><a href=\"#follow-us\">Follow us</a>\n",
      "<a href=\"https://www.facebook.com/thehackernews\" rel=\"noopener\" target=\"_blank\"><i class=\"icon-font icon-facebook\"></i></a>\n",
      "<a href=\"https://twitter.com/thehackersnews\" rel=\"noopener\" target=\"_blank\"><i class=\"icon-font icon-twitter\"></i></a>\n",
      "<a href=\"https://www.linkedin.com/company/thehackernews/\" rel=\"noopener\" target=\"_blank\"><i class=\"icon-font icon-linkedin\"></i></a>\n",
      "<a href=\"https://www.youtube.com/c/thehackernews?sub_confirmation=1\" rel=\"noopener\" target=\"_blank\"><i class=\"icon-font icon-youtube\"></i></a><a href=\"https://feeds.feedburner.com/TheHackersNews\" rel=\"noopener\" target=\"_blank\"><i class=\"icon-font icon-rss\"></i></a></span>\n",
      "</div>\n",
      "</div>\n",
      "<div class=\"logo-area cf\">\n",
      "<div class=\"logo-box\">\n",
      "<a href=\"/\"><img alt=\"The Hacker News Logo\" decoding=\"async\" src=\"data:image/png;base64,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\"/></a>\n",
      "</div>\n",
      "<div class=\"m-button m-menu-more\"><a aria-label=\"open menu\" class=\"btn-open\" href=\"javascript:void(0)\"><i class=\"icon-font icon-menu m-m-icon\"></i></a></div>\n",
      "<div class=\"m-search-here\"><i class=\"icon-font icon-search\"></i></div>\n",
      "<a class=\"sub-button\" href=\"#email-outer\"><div class=\"sub-style\"><i class=\"icon-font icon-mail-alt\"></i> Subscribe to Newsletter</div></a>\n",
      "</div>\n",
      "</header>\n",
      "<nav class=\"menu cf\">\n",
      "<div class=\"m-menu-box cf\">\n",
      "<ul class=\"cf m-menu-ul\">\n",
      "<li><a href=\"/\"><i class=\"icon-font icon-home\"></i> Home</a></li>\n",
      "<li><a href=\"#email-outer\"><i class=\"icon-font icon-mail-alt\"></i> Newsletter</a></li>\n",
      "<li><a href=\"https://deals.thehackernews.com\" rel=\"noopener\" target=\"_blank\"><i class=\"icon-font icon-basket\"></i> Offers</a></li>\n",
      "</ul>\n",
      "</div>\n",
      "<div class=\"menu-box cf\">\n",
      "<ul class=\"cf menu-ul\">\n",
      "<li class=\"show-menu\"><a href=\"/\" itemprop=\"url\">Home</a></li>\n",
      "<li class=\"eight_plus\"><a href=\"/search/label/data%20breach\">Data Breaches</a></li>\n",
      "<li class=\"show-menu\"><a href=\"/search/label/Cyber%20Attack\">Cyber Attacks</a></li>\n",
      "<li class=\"show-menu\"><a href=\"/search/label/Vulnerability\">Vulnerabilities</a></li>\n",
      "<li class=\"eight_plus\"><a href=\"/search/label/Malware\">Malware</a></li>\n",
      "<li class=\"show-menu\"><a href=\"https://deals.thehackernews.com\" rel=\"noopener\" target=\"_blank\">Offers</a></li>\n",
      "<li class=\"show-menu\"><a href=\"/p/submit-news.html\">Contact</a></li>\n",
      "</ul>\n",
      "<div class=\"button menu-more\">\n",
      "<a class=\"btn-open\" href=\"javascript:void(0)\"><i class=\"icon-font icon-menu\"></i></a></div>\n",
      "<div class=\"search-here\"><i class=\"icon-font icon-search\"></i></div>\n",
      "</div>\n",
      "</nav>\n",
      "<aside class=\"search-box cf\"><div class=\"search-b\"><form action=\"https://www.google.com/cse\" id=\"searchform\" method=\"get\"><input autocomplete=\"off\" id=\"s\" name=\"q\" placeholder=\"Search Here...\" type=\"text\"/>\n",
      "<input name=\"cx\" type=\"hidden\" value=\"partner-pub-7983783048239650:3179771210\"/>\n",
      "</form><span class=\"underline\"></span></div></aside>\n",
      "<aside class=\"overlay slide-up-fade-in cf\" id=\"overlay\">\n",
      "<div class=\"wrap cf\">\n",
      "<div class=\"o-top cf\">\n",
      "<a class=\"btn-close\" href=\"javascript:void(0)\"><i class=\"icon-font icon-cancel close-m-i\"></i></a>\n",
      "</div>\n",
      "<nav class=\"o-menu-box cf\">\n",
      "<div class=\"o-menu-left\">\n",
      "<div class=\"o-menu-h5\">Resources</div>\n",
      "<ul class=\"o-menu\">\n",
      "<li><a href=\"https://deals.thehackernews.com\" rel=\"noopener\" target=\"_blank\">THN Store</a></li>\n",
      "<li><a href=\"https://thehackernews.tradepub.com\" rel=\"noopener\" target=\"_blank\">Free eBooks</a></li>\n",
      "<li><a href=\"https://deals.thehackernews.com/free\" rel=\"noopener\" target=\"_blank\">Freebies</a></li>\n",
      "<li><a href=\"https://feeds.feedburner.com/TheHackersNews\" rel=\"noopener\" target=\"_blank\">RSS Feeds</a></li>\n",
      "</ul>\n",
      "</div>\n",
      "<div class=\"o-menu-right\">\n",
      "<div class=\"o-menu-h5\">About Site</div>\n",
      "<ul class=\"o-menu\">\n",
      "<li><a href=\"/p/about-us.html\">About Us</a></li>\n",
      "<li><a href=\"/p/authors.html\">Our Team</a></li>\n",
      "<li><a href=\"/p/careers-technical-writer-designer-and.html\">Jobs</a></li>\n",
      "<li><a href=\"/p/advertising-with-hacker-news.html\">Advertise With Us</a></li>\n",
      "</ul>\n",
      "</div>\n",
      "</nav>\n",
      "<div class=\"gap\"></div>\n",
      "<div class=\"o-h5\">Contact/Tip Us</div>\n",
      "<div class=\"o-contact\">\n",
      "<a href=\"/p/submit-news.html\">\n",
      "<div class=\"o-contact-icon\"><i class=\"icon-font icon-mail-alt\"></i></div>\n",
      "<span>Reach out to get featured—contact us to send your exclusive story idea, research, hacks, or ask us a question or leave a comment/feedback!</span>\n",
      "</a>\n",
      "</div>\n",
      "<div class=\"gap\"></div>\n",
      "<div class=\"o-h5\">Follow Us On Social Media</div>\n",
      "<div class=\"o-follow cf\">\n",
      "<a href=\"https://www.facebook.com/thehackernews\" rel=\"noopener\" target=\"_blank\"><i class=\"icon-font icon-facebook\"></i></a>\n",
      "<a href=\"https://twitter.com/thehackersnews\" rel=\"noopener\" target=\"_blank\"><i class=\"icon-font icon-twitter\"></i></a>\n",
      "<a href=\"https://www.linkedin.com/company/thehackernews/\" rel=\"noopener\" target=\"_blank\"><i class=\"icon-font icon-linkedin\"></i></a>\n",
      "<a href=\"https://www.youtube.com/c/thehackernews?sub_confirmation=1\" rel=\"noopener\" target=\"_blank\"><i class=\"icon-font icon-youtube\"></i></a>\n",
      "<a href=\"https://www.instagram.com/thehackernews/\" rel=\"noopener\" target=\"_blank\"><i class=\"icon-font icon-instagram\"></i></a>\n",
      "</div>\n",
      "<div class=\"o-sub cf\">\n",
      "<a href=\"https://feeds.feedburner.com/TheHackersNews\" rel=\"noopener\" target=\"_blank\"><i class=\"icon-font icon-rss\"></i> RSS Feeds</a>\n",
      "<a href=\"#email-outer\"><i class=\"icon-font icon-bell-alt\"></i> Email Alerts</a>\n",
      "<a href=\"https://t.me/joinchat/AAAAADwuDObFWF60CiR-HQ\" rel=\"noopener\" target=\"_blank\"><i class=\"icon-font icon-telegram\"></i> Telegram Channel</a>\n",
      "</div>\n",
      "</div>\n",
      "</aside>\n",
      "<div class=\"google cf\"><center class=\"cf\">\n",
      "<a href=\"https://go.thn.li/crowd-h-d\" rel=\"nofollow noopener sponsored\" target=\"_blank\" title=\"CrowdSec\"><img alt=\"CrowdSec\" height=\"90\" importance=\"highest\" src=\"data:image/jpeg;base64,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\" width=\"728\"/></a>\n",
      "</center></div>\n",
      "<main class=\"main clear\">\n",
      "<div class=\"main-box clear\">\n",
      "<h1 class=\"story-title-all\">The Hacker News - Most Trusted Cyber Security and Computer Security Analysis</h1>\n",
      "<div class=\"main-left-right clear\">\n",
      "<div class=\"left-box\">\n",
      "<div class=\"content section\" id=\"content\"><div class=\"widget Blog\" data-version=\"1\" id=\"Blog1\">\n",
      "<div class=\"blog-posts clear\">\n",
      "<div class=\"body-post clear\">\n",
      "<a class=\"story-link\" href=\"https://thehackernews.com/2022/10/experts-warn-of-new-ratmilad-android.html\">\n",
      "<div class=\"clear home-post-box cf\">\n",
      "<div class=\"home-img clear\">\n",
      "<div class=\"img-ratio\"><img alt=\"Experts Warn of New RatMilad Android Spyware Targeting Enterprise Devices\" class=\"home-img-src lazyload\" data-src=\"https://thehackernews.com/new-images/img/b/R29vZ2xl/AVvXsEhwUeDgh3fvGYt_cm1mWspLztCcA6pV5LIsy4pj0Qp-ph9ih0pt7OxLontw44i0xly-1FIFqcNbB_5DFoWmTBS8z-wPUE1AgvjXw4-L5pemF3QU9_DeJxFFdm0r62OjjVcrXP6cZ0WruFz0mCdQgZt_kvZWfTPQWZefxgS33n7w1kgoeEWcBw5bLA4E/s728-e1000/android.jpg\" decoding=\"async\" height=\"380\" src=\"data:image/svg+xml;base64,PHN2ZyB4bWxucz0iaHR0cDovL3d3dy53My5vcmcvMjAwMC9zdmciIHZpZXdCb3g9IjAgMCA3MjggMzgwIiB3aWR0aD0iNzI4IiBoZWlnaHQ9IjM4MCI+CiAgPHJlY3Qgd2lkdGg9IjcyOCIgaGVpZ2h0PSIzODAiIGZpbGw9IiNCRUJFQkVGRiI+PC9yZWN0PgogIDx0ZXh0IHg9IjUwJSIgeT0iNTAlIiBkb21pbmFudC1iYXNlbGluZT0ibWlkZGxlIiB0ZXh0LWFuY2hvcj0ibWlkZGxlIiBmb250LWZhbWlseT0ibW9ub3NwYWNlIiBmb250LXNpemU9IjE0cHgiIGZpbGw9IiNGRkZERkRGRiI+Li4uPC90ZXh0PiAgIAo8L3N2Zz4=\" width=\"728\"/></div>\n",
      "<noscript><img alt=\"Experts Warn of New RatMilad Android Spyware Targeting Enterprise Devices\" decoding=\"async\" loading=\"lazy\" src=\"https://thehackernews.com/new-images/img/b/R29vZ2xl/AVvXsEhwUeDgh3fvGYt_cm1mWspLztCcA6pV5LIsy4pj0Qp-ph9ih0pt7OxLontw44i0xly-1FIFqcNbB_5DFoWmTBS8z-wPUE1AgvjXw4-L5pemF3QU9_DeJxFFdm0r62OjjVcrXP6cZ0WruFz0mCdQgZt_kvZWfTPQWZefxgS33n7w1kgoeEWcBw5bLA4E/s728-e1000/android.jpg\"/></noscript>\n",
      "</div>\n",
      "<div class=\"clear home-right\">\n",
      "<h2 class=\"home-title\">Experts Warn of New RatMilad Android Spyware Targeting Enterprise Devices</h2>\n",
      "<div class=\"item-label\"><i class=\"icon-font icon-calendar\"></i>October 05, 2022<span><i class=\"icon-font icon-user\"></i>Ravie Lakshmanan\n",
      "</span></div>\n",
      "<div class=\"home-desc\"> A novel Android malware called RatMilad has been observed targeting a Middle Eastern enterprise mobile device by concealing itself as a VPN and phone number spoofing app.  The mobile trojan functions as advanced spyware with capabilities that receives and executes commands to collect and exfiltrate a wide variety of data from the infected mobile endpoint, Zimperium  said  in a report shared with The Hacker News.  Evidence gathered by the mobile security company shows that the malicious app is distributed through links on social media and communication tools like Telegram, tricking unsuspecting users into sideloading the app and granting it extensive permissions.   The idea behind embedding the malware within a fake VPN and phone number spoofing service is also clever in that the app claims to enable users to verify social media accounts via phone, a technique popular in countries where access is restricted.  \"Once installed and in control, the attackers could access the camera to</div>\n",
      "</div>\n",
      "</div>\n",
      "</a>\n",
      "</div>\n",
      "<div class=\"body-post clear\">\n",
      "<a class=\"story-link\" href=\"https://thehackernews.com/2022/10/telstra-telecom-suffers-data-breach.html\">\n",
      "<div class=\"clear home-post-box cf\">\n",
      "<div class=\"home-img clear\">\n",
      "<div class=\"img-ratio\"><img alt=\"Telstra Telecom Suffers Data Breach Potentially Exposing Employee Information\" class=\"home-img-src lazyload\" data-src=\"https://thehackernews.com/new-images/img/b/R29vZ2xl/AVvXsEhZv1kjW5apXL05ZPM6uKhI9Cy7eDtb0uoenX6H0mC3oFsBkSi3ISI2AYQYeovX4CmcPiZ42_4bJ2LdXiN81a6RRcLunxA5oJBlGNwMiAeZn1l6UP3H4gzdQSMUJVg6-qgw79lJeQdMT3vIWztTwlo0z3cgjHe3yBGCikBNmYmb6rVLmdoYxwmYpsD_/s728-e1000/Telstra-hack.jpg\" decoding=\"async\" height=\"380\" src=\"data:image/svg+xml;base64,PHN2ZyB4bWxucz0iaHR0cDovL3d3dy53My5vcmcvMjAwMC9zdmciIHZpZXdCb3g9IjAgMCA3MjggMzgwIiB3aWR0aD0iNzI4IiBoZWlnaHQ9IjM4MCI+CiAgPHJlY3Qgd2lkdGg9IjcyOCIgaGVpZ2h0PSIzODAiIGZpbGw9IiNCRUJFQkVGRiI+PC9yZWN0PgogIDx0ZXh0IHg9IjUwJSIgeT0iNTAlIiBkb21pbmFudC1iYXNlbGluZT0ibWlkZGxlIiB0ZXh0LWFuY2hvcj0ibWlkZGxlIiBmb250LWZhbWlseT0ibW9ub3NwYWNlIiBmb250LXNpemU9IjE0cHgiIGZpbGw9IiNGRkZERkRGRiI+Li4uPC90ZXh0PiAgIAo8L3N2Zz4=\" width=\"728\"/></div>\n",
      "<noscript><img alt=\"Telstra Telecom Suffers Data Breach Potentially Exposing Employee Information\" decoding=\"async\" loading=\"lazy\" src=\"https://thehackernews.com/new-images/img/b/R29vZ2xl/AVvXsEhZv1kjW5apXL05ZPM6uKhI9Cy7eDtb0uoenX6H0mC3oFsBkSi3ISI2AYQYeovX4CmcPiZ42_4bJ2LdXiN81a6RRcLunxA5oJBlGNwMiAeZn1l6UP3H4gzdQSMUJVg6-qgw79lJeQdMT3vIWztTwlo0z3cgjHe3yBGCikBNmYmb6rVLmdoYxwmYpsD_/s728-e1000/Telstra-hack.jpg\"/></noscript>\n",
      "</div>\n",
      "<div class=\"clear home-right\">\n",
      "<h2 class=\"home-title\">Telstra Telecom Suffers Data Breach Potentially Exposing Employee Information</h2>\n",
      "<div class=\"item-label\"><i class=\"icon-font icon-calendar\"></i>October 05, 2022<span><i class=\"icon-font icon-user\"></i>Ravie Lakshmanan\n",
      "</span></div>\n",
      "<div class=\"home-desc\"> Australia's largest telecommunications company Telstra disclosed that it was the victim of a data breach through a third-party, nearly two weeks after Optus reported a breach of its own.  \"There has been no breach of Telstra's systems,\" Narelle Devine, the company's chief information security officer for the Asia Pacific region,  said . \"And no customer account data was involved.\"   It said the breach targeted a third-party platform called  Work Life NAB  that's no longer actively used by the company, and that the leaked data posted on the internet concerned a \"now-obsolete Telstra employee rewards program.\"   Telstra also noted it became aware of the breach last week, adding the information included first and last names and the email addresses used to sign up for the program. It further clarified that the data posted was from 2017.  The data was \"basic in nature,\" Devine said.    The company did not reveal how many employees wer</div>\n",
      "</div>\n",
      "</div>\n",
      "</a>\n",
      "</div>\n",
      "<div class=\"home-feed-ga\"><ins class=\"adsbygoogle\" data-ad-client=\"ca-pub-7983783048239650\" data-ad-format=\"fluid\" data-ad-layout-key=\"-fn+2y+io-by-wq\" data-ad-slot=\"6409653693\" style=\"display:block\"></ins><script type=\"eb6d8edf872badfd2cc1386d-text/javascript\">(adsbygoogle = window.adsbygoogle || []).push({});</script></div>\n",
      "<div class=\"body-post clear\">\n",
      "<a class=\"story-link\" href=\"https://thehackernews.com/2022/10/fbi-cisa-and-nsa-reveal-how-hackers.html\">\n",
      "<div class=\"clear home-post-box cf\">\n",
      "<div class=\"home-img clear\">\n",
      "<div class=\"img-ratio\"><img alt=\"FBI, CISA, and NSA Reveal How Hackers Targeted a Defense Industrial Base Organization\" class=\"home-img-src lazyload\" data-src=\"https://thehackernews.com/new-images/img/b/R29vZ2xl/AVvXsEg2AaSEUfngfomXIDI7VAJAwpOrXLmt7rSqCZPimPyIrKw1Lk8JWXgBc4efdXobHHfL1TFykR29T1ysqY4U7mDvF34igJ7XANu5-fPVWtmRegoBqYha-wFYGeGHctmcCHkeACxV_OyBRu-bHgozQIpFSDows5kMK3ntjA90QD7bkbo-Hd6VYFa3-T6n/s728-e1000/hacking.jpg\" decoding=\"async\" height=\"380\" src=\"data:image/svg+xml;base64,PHN2ZyB4bWxucz0iaHR0cDovL3d3dy53My5vcmcvMjAwMC9zdmciIHZpZXdCb3g9IjAgMCA3MjggMzgwIiB3aWR0aD0iNzI4IiBoZWlnaHQ9IjM4MCI+CiAgPHJlY3Qgd2lkdGg9IjcyOCIgaGVpZ2h0PSIzODAiIGZpbGw9IiNCRUJFQkVGRiI+PC9yZWN0PgogIDx0ZXh0IHg9IjUwJSIgeT0iNTAlIiBkb21pbmFudC1iYXNlbGluZT0ibWlkZGxlIiB0ZXh0LWFuY2hvcj0ibWlkZGxlIiBmb250LWZhbWlseT0ibW9ub3NwYWNlIiBmb250LXNpemU9IjE0cHgiIGZpbGw9IiNGRkZERkRGRiI+Li4uPC90ZXh0PiAgIAo8L3N2Zz4=\" width=\"728\"/></div>\n",
      "<noscript><img alt=\"FBI, CISA, and NSA Reveal How Hackers Targeted a Defense Industrial Base Organization\" decoding=\"async\" loading=\"lazy\" src=\"https://thehackernews.com/new-images/img/b/R29vZ2xl/AVvXsEg2AaSEUfngfomXIDI7VAJAwpOrXLmt7rSqCZPimPyIrKw1Lk8JWXgBc4efdXobHHfL1TFykR29T1ysqY4U7mDvF34igJ7XANu5-fPVWtmRegoBqYha-wFYGeGHctmcCHkeACxV_OyBRu-bHgozQIpFSDows5kMK3ntjA90QD7bkbo-Hd6VYFa3-T6n/s728-e1000/hacking.jpg\"/></noscript>\n",
      "</div>\n",
      "<div class=\"clear home-right\">\n",
      "<h2 class=\"home-title\">FBI, CISA, and NSA Reveal How Hackers Targeted a Defense Industrial Base Organization</h2>\n",
      "<div class=\"item-label\"><i class=\"icon-font icon-calendar\"></i>October 05, 2022<span><i class=\"icon-font icon-user\"></i>Ravie Lakshmanan\n",
      "</span></div>\n",
      "<div class=\"home-desc\"> U.S. cybersecurity and intelligence agencies on Tuesday disclosed that multiple nation-state hacking groups potentially targeted a \"Defense Industrial Base (DIB) Sector organization's enterprise network\" as part of a cyber espionage campaign.  \"[Advanced persistent threat] actors used an open-source toolkit called  Impacket  to gain their foothold within the environment and further compromise the network, and also used a custom data exfiltration tool, CovalentStealer, to steal the victim's sensitive data,\" the authorities  said .   The  joint advisory , which was authored by the Cybersecurity and Infrastructure Security Agency (CISA), the Federal Bureau of Investigation (FBI), and the National Security Agency (NSA), said the adversaries likely had long-term access to the compromised environment.  The findings are the result of CISA's incident response efforts in collaboration with a trusted third-party security firm from November 2021 through January 20</div>\n",
      "</div>\n",
      "</div>\n",
      "</a>\n",
      "</div>\n",
      "<div class=\"body-post clear\">\n",
      "<a class=\"story-link\" href=\"https://thehackernews.com/2022/10/want-more-secure-software-start.html\">\n",
      "<div class=\"clear home-post-box cf\">\n",
      "<div class=\"home-img clear\">\n",
      "<div class=\"img-ratio\"><img alt=\"Want More Secure Software? Start Recognizing Security-Skilled Developers\" class=\"home-img-src lazyload\" data-src=\"https://thehackernews.com/new-images/img/b/R29vZ2xl/AVvXsEhN7YH8d7QI5qmCX2fSfTznT9HjSV5akahQTuz4cbHqtKm67ehS_h4Zkq4rgsWPxA8lo2_AVg7DapodPhJlNxOXETdbdK__dZDUER1sD1VwuUel2J4GEprjVdORFoYGkZSX3ZF-SvBxmO9Lr9SST9QSW8_ocwD1HuTdF8yljrKMEPSL6bXOPCuUScqy/s728-e1000/dev.jpg\" decoding=\"async\" height=\"380\" src=\"data:image/svg+xml;base64,PHN2ZyB4bWxucz0iaHR0cDovL3d3dy53My5vcmcvMjAwMC9zdmciIHZpZXdCb3g9IjAgMCA3MjggMzgwIiB3aWR0aD0iNzI4IiBoZWlnaHQ9IjM4MCI+CiAgPHJlY3Qgd2lkdGg9IjcyOCIgaGVpZ2h0PSIzODAiIGZpbGw9IiNCRUJFQkVGRiI+PC9yZWN0PgogIDx0ZXh0IHg9IjUwJSIgeT0iNTAlIiBkb21pbmFudC1iYXNlbGluZT0ibWlkZGxlIiB0ZXh0LWFuY2hvcj0ibWlkZGxlIiBmb250LWZhbWlseT0ibW9ub3NwYWNlIiBmb250LXNpemU9IjE0cHgiIGZpbGw9IiNGRkZERkRGRiI+Li4uPC90ZXh0PiAgIAo8L3N2Zz4=\" width=\"728\"/></div>\n",
      "<noscript><img alt=\"Want More Secure Software? Start Recognizing Security-Skilled Developers\" decoding=\"async\" loading=\"lazy\" src=\"https://thehackernews.com/new-images/img/b/R29vZ2xl/AVvXsEhN7YH8d7QI5qmCX2fSfTznT9HjSV5akahQTuz4cbHqtKm67ehS_h4Zkq4rgsWPxA8lo2_AVg7DapodPhJlNxOXETdbdK__dZDUER1sD1VwuUel2J4GEprjVdORFoYGkZSX3ZF-SvBxmO9Lr9SST9QSW8_ocwD1HuTdF8yljrKMEPSL6bXOPCuUScqy/s728-e1000/dev.jpg\"/></noscript>\n",
      "</div>\n",
      "<div class=\"clear home-right\">\n",
      "<h2 class=\"home-title\">Want More Secure Software? Start Recognizing Security-Skilled Developers</h2>\n",
      "<div class=\"item-label\"><i class=\"icon-font icon-calendar\"></i>October 05, 2022<span><i class=\"icon-font icon-user\"></i>The Hacker News\n",
      "</span></div>\n",
      "<div class=\"home-desc\"> Professional developers want to do the right thing, but in terms of security, they are rarely set up for success. Organizations must support their upskilling with precision training and incentives if they want secure software from the ground up.  The cyber threat landscape grows more complex by the day, with our data widely considered highly desirable \"digital gold\". Attackers are constantly scanning networks for vulnerable applications, programs, cloud instances, and the latest flavor of the month is APIs, with Gartner  correctly predicting  that they would become the most common attack vector in 2022, and that is in no small part thanks to their often lax security controls.   Threat actors are so persistent that new apps can sometimes be compromised and exploited within hours of deployment. The  Verizon 2022 Data Breach Investigations Report  reveals that errors and misconfigurations were the cause of 13% of breaches, with the human element responsible overall for 82% of the 23,000 </div>\n",
      "</div>\n",
      "</div>\n",
      "</a>\n",
      "</div>\n",
      "<div class=\"home-feed-ga\"><ins class=\"adsbygoogle\" data-ad-client=\"ca-pub-7983783048239650\" data-ad-format=\"fluid\" data-ad-layout-key=\"-fn+2y+io-by-wq\" data-ad-slot=\"6409653693\" style=\"display:block\"></ins>\n",
      "<script type=\"eb6d8edf872badfd2cc1386d-text/javascript\"> (adsbygoogle = window.adsbygoogle || []).push({}); </script></div>\n",
      "<div class=\"body-post clear\">\n",
      "<a class=\"story-link\" href=\"https://thehackernews.com/2022/10/canadian-netwalker-ransomware-affiliate.html\">\n",
      "<div class=\"clear home-post-box cf\">\n",
      "<div class=\"home-img clear\">\n",
      "<div class=\"img-ratio\"><img alt=\"Canadian Netwalker Ransomware Affiliate Sentenced to 20 Years in U.S. Prison\" class=\"home-img-src lazyload\" data-src=\"https://thehackernews.com/new-images/img/b/R29vZ2xl/AVvXsEjdUJiEZ_JS7m-rAT3GUaZIi3X6lF2Y7XchS-d4xYdTvdGz5urPZOEfs3Zo6ppUKlcXQl6S3plif2N0VzOORC15w4ThtII-GLKs-cLoGs4F2i4w6m6QjDrY4GqYzVYAj-RiQqczOKGNNSkNODZaCIGhQGmclPeO_31Zif1utnmFSBbvNzCh4OYjhqhv/s728-e1000/ransomware-malware.jpg\" decoding=\"async\" height=\"380\" src=\"data:image/svg+xml;base64,PHN2ZyB4bWxucz0iaHR0cDovL3d3dy53My5vcmcvMjAwMC9zdmciIHZpZXdCb3g9IjAgMCA3MjggMzgwIiB3aWR0aD0iNzI4IiBoZWlnaHQ9IjM4MCI+CiAgPHJlY3Qgd2lkdGg9IjcyOCIgaGVpZ2h0PSIzODAiIGZpbGw9IiNCRUJFQkVGRiI+PC9yZWN0PgogIDx0ZXh0IHg9IjUwJSIgeT0iNTAlIiBkb21pbmFudC1iYXNlbGluZT0ibWlkZGxlIiB0ZXh0LWFuY2hvcj0ibWlkZGxlIiBmb250LWZhbWlseT0ibW9ub3NwYWNlIiBmb250LXNpemU9IjE0cHgiIGZpbGw9IiNGRkZERkRGRiI+Li4uPC90ZXh0PiAgIAo8L3N2Zz4=\" width=\"728\"/></div>\n",
      "<noscript><img alt=\"Canadian Netwalker Ransomware Affiliate Sentenced to 20 Years in U.S. Prison\" decoding=\"async\" loading=\"lazy\" src=\"https://thehackernews.com/new-images/img/b/R29vZ2xl/AVvXsEjdUJiEZ_JS7m-rAT3GUaZIi3X6lF2Y7XchS-d4xYdTvdGz5urPZOEfs3Zo6ppUKlcXQl6S3plif2N0VzOORC15w4ThtII-GLKs-cLoGs4F2i4w6m6QjDrY4GqYzVYAj-RiQqczOKGNNSkNODZaCIGhQGmclPeO_31Zif1utnmFSBbvNzCh4OYjhqhv/s728-e1000/ransomware-malware.jpg\"/></noscript>\n",
      "</div>\n",
      "<div class=\"clear home-right\">\n",
      "<h2 class=\"home-title\">Canadian Netwalker Ransomware Affiliate Sentenced to 20 Years in U.S. Prison</h2>\n",
      "<div class=\"item-label\"><i class=\"icon-font icon-calendar\"></i>October 05, 2022<span><i class=\"icon-font icon-user\"></i>Ravie Lakshmanan\n",
      "</span></div>\n",
      "<div class=\"home-desc\"> A former affiliate of the Netwalker ransomware has been sentenced to 20 years in prison in the U.S., a little over three months after the  Canadian national pleaded guilty  to his role in the crimes.  Sebastien Vachon-Desjardins, 35, has also been ordered to forfeit $21,500,000 that was illicitly obtained from dozens of victims globally, including companies, municipalities, hospitals, law enforcement, emergency services, school districts, colleges, and universities.  Launched in 2019, the Netwalker attacks particularly singled out the healthcare sector during the COVID-19 pandemic, opportunistically taking advantage of the situation to extort money from victims.   \"The defendant in this case used sophisticated technological means to exploit hundreds of victims in numerous countries at the height of an international health crisis,\" U.S. Attorney Roger B. Handberg for the Middle District of Florida  said .  Vachon-Desjardins, an IT engineer working for the Canadian government </div>\n",
      "</div>\n",
      "</div>\n",
      "</a>\n",
      "</div>\n",
      "<div class=\"body-post clear\">\n",
      "<a class=\"story-link\" href=\"https://thehackernews.com/2022/10/mitigation-for-exchange-zero-days.html\">\n",
      "<div class=\"clear home-post-box cf\">\n",
      "<div class=\"home-img clear\">\n",
      "<div class=\"img-ratio\"><img alt=\"Mitigation for Exchange Zero-Days Bypassed! Microsoft Issues New Workarounds\" class=\"home-img-src lazyload\" data-src=\"https://thehackernews.com/new-images/img/b/R29vZ2xl/AVvXsEi9curQBhNNFXVb7VMBAzdw4XqdlsRjjQO1TKoTP_j324ubmIjk9pqa624KRULI6wr62I5mCw6kwv5V7wAOuLszOF38jRdG5L0uMRGSF_wbY7B8Tf8xxuDiq7vHa3JRrFkp9bwK0s3z3LdKaWNgmAED48clrraRNSd-7DXt9XvTyxpt1PFJ0gS6hRc6/s728-e1000/ms.jpg\" decoding=\"async\" height=\"380\" src=\"data:image/svg+xml;base64,PHN2ZyB4bWxucz0iaHR0cDovL3d3dy53My5vcmcvMjAwMC9zdmciIHZpZXdCb3g9IjAgMCA3MjggMzgwIiB3aWR0aD0iNzI4IiBoZWlnaHQ9IjM4MCI+CiAgPHJlY3Qgd2lkdGg9IjcyOCIgaGVpZ2h0PSIzODAiIGZpbGw9IiNCRUJFQkVGRiI+PC9yZWN0PgogIDx0ZXh0IHg9IjUwJSIgeT0iNTAlIiBkb21pbmFudC1iYXNlbGluZT0ibWlkZGxlIiB0ZXh0LWFuY2hvcj0ibWlkZGxlIiBmb250LWZhbWlseT0ibW9ub3NwYWNlIiBmb250LXNpemU9IjE0cHgiIGZpbGw9IiNGRkZERkRGRiI+Li4uPC90ZXh0PiAgIAo8L3N2Zz4=\" width=\"728\"/></div>\n",
      "<noscript><img alt=\"Mitigation for Exchange Zero-Days Bypassed! Microsoft Issues New Workarounds\" decoding=\"async\" loading=\"lazy\" src=\"https://thehackernews.com/new-images/img/b/R29vZ2xl/AVvXsEi9curQBhNNFXVb7VMBAzdw4XqdlsRjjQO1TKoTP_j324ubmIjk9pqa624KRULI6wr62I5mCw6kwv5V7wAOuLszOF38jRdG5L0uMRGSF_wbY7B8Tf8xxuDiq7vHa3JRrFkp9bwK0s3z3LdKaWNgmAED48clrraRNSd-7DXt9XvTyxpt1PFJ0gS6hRc6/s728-e1000/ms.jpg\"/></noscript>\n",
      "</div>\n",
      "<div class=\"clear home-right\">\n",
      "<h2 class=\"home-title\">Mitigation for Exchange Zero-Days Bypassed! Microsoft Issues New Workarounds</h2>\n",
      "<div class=\"item-label\"><i class=\"icon-font icon-calendar\"></i>October 05, 2022<span><i class=\"icon-font icon-user\"></i>Ravie Lakshmanan\n",
      "</span></div>\n",
      "<div class=\"home-desc\"> Microsoft has revised its mitigation measures for the newly disclosed and actively exploited zero-day flaws in Exchange Server after it was found that they could be trivially bypassed.  The two vulnerabilities, tracked as CVE-2022-41040 and CVE-2022-41082, have been codenamed  ProxyNotShell  due to similarities to another set of flaws called  ProxyShell , which the tech giant resolved last year.  In-the-wild attacks abusing the  shortcomings  have chained the two flaws to gain remote code execution on compromised servers with elevated privileges, leading to the deployment of web shells.  The Windows maker, which is yet to release a fix for the bugs, has acknowledged that a single state-sponsored threat actor may have been weaponizing the flaws since August 2022 in limited targeted attacks.   In the meantime, the company has made available temporary workarounds to reduce the risk of exploitation by restricting known attack patterns through a rule in the IIS Manager.  However, according</div>\n",
      "</div>\n",
      "</div>\n",
      "</a>\n",
      "</div>\n",
      "<div class=\"body-post clear\">\n",
      "<a class=\"story-link\" href=\"https://thehackernews.com/2022/10/russian-hacker-arrested-in-india-for.html\">\n",
      "<div class=\"clear home-post-box cf\">\n",
      "<div class=\"home-img clear\">\n",
      "<div class=\"img-ratio\"><img alt=\"Russian Hacker Arrested in India for Reportedly Helping Students Cheat in JEE-Main Exam\" class=\"home-img-src lazyload\" data-src=\"https://thehackernews.com/new-images/img/b/R29vZ2xl/AVvXsEgroyQDVDPd63fDbbsCYHD5BNR7KL1vpzxEKzuLMYIbCVvGGqYy7Vyv3zn39HGIq9ULHP9e1Eg5KKOtCHIFhYDchPlLpgOGPZCOecOJ9ltJAUrCup7hmc6q32XtS0Hppw2EzWUTbxSj40_fHcRruY9MGBvF_q17uTjNs08FImXCchArcpk0LSZ-jSaP/s728-e100/cbi.jpg\" decoding=\"async\" height=\"380\" src=\"data:image/svg+xml;base64,PHN2ZyB4bWxucz0iaHR0cDovL3d3dy53My5vcmcvMjAwMC9zdmciIHZpZXdCb3g9IjAgMCA3MjggMzgwIiB3aWR0aD0iNzI4IiBoZWlnaHQ9IjM4MCI+CiAgPHJlY3Qgd2lkdGg9IjcyOCIgaGVpZ2h0PSIzODAiIGZpbGw9IiNCRUJFQkVGRiI+PC9yZWN0PgogIDx0ZXh0IHg9IjUwJSIgeT0iNTAlIiBkb21pbmFudC1iYXNlbGluZT0ibWlkZGxlIiB0ZXh0LWFuY2hvcj0ibWlkZGxlIiBmb250LWZhbWlseT0ibW9ub3NwYWNlIiBmb250LXNpemU9IjE0cHgiIGZpbGw9IiNGRkZERkRGRiI+Li4uPC90ZXh0PiAgIAo8L3N2Zz4=\" width=\"728\"/></div>\n",
      "<noscript><img alt=\"Russian Hacker Arrested in India for Reportedly Helping Students Cheat in JEE-Main Exam\" decoding=\"async\" loading=\"lazy\" src=\"https://thehackernews.com/new-images/img/b/R29vZ2xl/AVvXsEgroyQDVDPd63fDbbsCYHD5BNR7KL1vpzxEKzuLMYIbCVvGGqYy7Vyv3zn39HGIq9ULHP9e1Eg5KKOtCHIFhYDchPlLpgOGPZCOecOJ9ltJAUrCup7hmc6q32XtS0Hppw2EzWUTbxSj40_fHcRruY9MGBvF_q17uTjNs08FImXCchArcpk0LSZ-jSaP/s728-e100/cbi.jpg\"/></noscript>\n",
      "</div>\n",
      "<div class=\"clear home-right\">\n",
      "<h2 class=\"home-title\">Russian Hacker Arrested in India for Reportedly Helping Students Cheat in JEE-Main Exam</h2>\n",
      "<div class=\"item-label\"><i class=\"icon-font icon-calendar\"></i>October 04, 2022<span><i class=\"icon-font icon-user\"></i>Ravie Lakshmanan\n",
      "</span></div>\n",
      "<div class=\"home-desc\"> India's Central Bureau of Investigation (CBI) on Monday disclosed that it has detained a Russian national for allegedly hacking into a software platform used to conduct engineering entrance assessments in the country in 2021.  \"The said accused was detained by the Bureau of Immigration at Indira Gandhi International Airport, Delhi while arriving in India from Almaty, Kazakhstan,\" the primary investigating agency  said  in a press release.  The name of the individual was not disclosed by law enforcement authorities, but Indian news reports identified the person as  Mikhail Shargin .   The CBI further said that Shargin's role was uncovered as part of its investigation into alleged irregularities committed in the Joint Entrance Examination ( JEE-Main ) conducted last year. JEE is a standardized test used for admissions to engineering colleges in India.  The September 2021 incident, per the agency, involved breaking into iLeon software, the platform on which the exam was</div>\n",
      "</div>\n",
      "</div>\n",
      "</a>\n",
      "</div>\n",
      "</div>\n",
      "<div class=\"blog-pager clear\" id=\"blog-pager\">\n",
      "<span id=\"blog-pager-older-link\">\n",
      "<a class=\"blog-pager-older-link-mobile\" href=\"https://thehackernews.com/search?updated-max=2022-10-04T23:51:00%2B05:30&amp;max-results=7\" id=\"Blog1_blog-pager-older-link\" title=\"Older Posts\"> Next Page <i class=\"icon-font icon-right-open\"></i></a>\n",
      "</span>\n",
      "</div>\n",
      "<div class=\"clear\"></div>\n",
      "</div></div>\n",
      "</div>\n",
      "<aside class=\"right-box\">\n",
      "<div class=\"clear av-side-box sidefix\">\n",
      "<div class=\"clear av-sidebar\" id=\"av-sidebar\"><ins class=\"adsbygoogle\" data-ad-client=\"ca-pub-7983783048239650\" data-ad-format=\"rectangle\" data-ad-slot=\"4149586040\" style=\"display:block;height:250px;width:300px\"></ins> <script> (adsbygoogle = window.adsbygoogle || []).push({}); </script></div>\n",
      "</div>\n",
      "<div class=\"clear zoho-box\">\n",
      "<a href=\"https://go.thn.li/IANS-s\" rel=\"nofollow noopener sponsored\" target=\"_blank\" title=\"cyber defense\"><img alt=\"intruder\" class=\"lazyload\" data-src=\"https://thehackernews.com/new-images/img/b/R29vZ2xl/AVvXsEiMt5DjMT-7QbdJ6rASxjJZCGEVF8iYyxlV4OLf2M_ik3q1g6Yh2tI5fFMSdH8hP4l6vYFxvNNmvfpt_C_5BId0VZZPtiqGliNdXFgqc3IEMYGEVxqcEBF0sRpFZPLV-pX_dL-nYGdOWZdznWYMoWZjMKbh9c1QGXVsD-qVL09_ih4p-w9qd-hGrtJ4Dw/s728-e100/IANS-sidebar.png\" decoding=\"async\" src=\"data:image/svg+xml;base64,PHN2ZyB4bWxucz0iaHR0cDovL3d3dy53My5vcmcvMjAwMC9zdmciIHZpZXdCb3g9IjAgMCAzMDAgMjUwIiB3aWR0aD0iMzAwIiBoZWlnaHQ9IjI1MCI+CiAgPHJlY3Qgd2lkdGg9IjMwMCIgaGVpZ2h0PSIyNTAiIGZpbGw9IiNCRUJFQkVGRiI+PC9yZWN0PgogIDx0ZXh0IHg9IjUwJSIgeT0iNTAlIiBkb21pbmFudC1iYXNlbGluZT0ibWlkZGxlIiB0ZXh0LWFuY2hvcj0ibWlkZGxlIiBmb250LWZhbWlseT0ibW9ub3NwYWNlIiBmb250LXNpemU9IjE0cHgiIGZpbGw9IiNGRkZERkRGRiI+Li4uPC90ZXh0PiAgIAo8L3N2Zz4=\" style=\"max-width:300px\"/></a>\n",
      "</div>\n",
      "<div class=\"clear section\" id=\"sidebar\"><div class=\"widget PopularPosts\" data-version=\"1\" id=\"PopularPosts1\">\n",
      "<div class=\"latest-title cf\">Popular This Week</div>\n",
      "<div class=\"widget-content popular-posts\">\n",
      "<div class=\"cf pop-article clear\">\n",
      "<a class=\"pop-link cf\" href=\"https://thehackernews.com/2022/10/state-sponsored-hackers-likely.html\">\n",
      "<div class=\"side-pop-image\">\n",
      "<figure class=\"pop-image\">\n",
      "<img alt=\"State-Sponsored Hackers Likely Exploited MS Exchange 0-Days Against ~10 Organizations\" border=\"0\" class=\"lazyload\" data-src=\"https://thehackernews.com/new-images/img/b/R29vZ2xl/AVvXsEiLG9V9B_xVvwA7aFCGySTOO5wtWjfUUfXnD668vDSJkbzBIm2NPP6g1ky-ViCG-wKLpXABQxIlv8utmjMKQL51hpJiXyYY2TLTY38wdOqX0wsX_F8diipfii3BtEeoyjJyWWMKayJerKNP8K8LA9mMdq2btrtQu479xoi3zF86AABjwbqGkg-1x_DY/w72-h72-p-k-no-nu/ms.jpg\" decoding=\"async\" height=\"72\" src=\"data:image/svg+xml;base64,PHN2ZyB4bWxucz0iaHR0cDovL3d3dy53My5vcmcvMjAwMC9zdmciIHZpZXdCb3g9IjAgMCA3MiA3MiIgd2lkdGg9IjcyIiBoZWlnaHQ9IjcyIj4KICA8cmVjdCB3aWR0aD0iNzIiIGhlaWdodD0iNzIiIGZpbGw9IiNCRUJFQkVGRiI+PC9yZWN0PgogIDx0ZXh0IHg9IjUwJSIgeT0iNTAlIiBkb21pbmFudC1iYXNlbGluZT0ibWlkZGxlIiB0ZXh0LWFuY2hvcj0ibWlkZGxlIiBmb250LWZhbWlseT0ibW9ub3NwYWNlIiBmb250LXNpemU9IjE0cHgiIGZpbGw9IiNGRkZERkRGRiI+Li4uPC90ZXh0PiAgIAo8L3N2Zz4=\" title=\"State-Sponsored Hackers Likely Exploited MS Exchange 0-Days Against ~10 Organizations\" width=\"72\"/>\n",
      "</figure>\n",
      "</div>\n",
      "<div class=\"pop-desc\">\n",
      "<div class=\"pop-title\">State-Sponsored Hackers Likely Exploited MS Exchange 0-Days Against ~10 Organizations</div>\n",
      "</div>\n",
      "</a>\n",
      "</div>\n",
      "<div class=\"cf pop-article clear\">\n",
      "<a class=\"pop-link cf\" href=\"https://thehackernews.com/2022/10/proxynotshell-new-proxy-hell.html\">\n",
      "<div class=\"side-pop-image\">\n",
      "<figure class=\"pop-image\">\n",
      "<img alt=\"ProxyNotShell – the New Proxy Hell?\" border=\"0\" class=\"lazyload\" data-src=\"https://thehackernews.com/new-images/img/b/R29vZ2xl/AVvXsEh6538WifO-pQPlUhACBuUX_jTbrSpW305DDSQv2XtGhWolinz3L4Hgy3yckiql7NJG9L9tFcb9ZFIPr1a1yBf9bvlyuXOAhhxdrgegxaIMeSIxRzX7JFkUbAULNHo8UzppH76EuY77JOotsyc1FYph-TCqk5DAr4GPj--2TvKuoLT8Tucw6ssJeCOa/w72-h72-p-k-no-nu/proxynotshell.jpg\" decoding=\"async\" height=\"72\" src=\"data:image/svg+xml;base64,PHN2ZyB4bWxucz0iaHR0cDovL3d3dy53My5vcmcvMjAwMC9zdmciIHZpZXdCb3g9IjAgMCA3MiA3MiIgd2lkdGg9IjcyIiBoZWlnaHQ9IjcyIj4KICA8cmVjdCB3aWR0aD0iNzIiIGhlaWdodD0iNzIiIGZpbGw9IiNCRUJFQkVGRiI+PC9yZWN0PgogIDx0ZXh0IHg9IjUwJSIgeT0iNTAlIiBkb21pbmFudC1iYXNlbGluZT0ibWlkZGxlIiB0ZXh0LWFuY2hvcj0ibWlkZGxlIiBmb250LWZhbWlseT0ibW9ub3NwYWNlIiBmb250LXNpemU9IjE0cHgiIGZpbGw9IiNGRkZERkRGRiI+Li4uPC90ZXh0PiAgIAo8L3N2Zz4=\" title=\"ProxyNotShell – the New Proxy Hell?\" width=\"72\"/>\n",
      "</figure>\n",
      "</div>\n",
      "<div class=\"pop-desc\">\n",
      "<div class=\"pop-title\">ProxyNotShell – the New Proxy Hell?</div>\n",
      "</div>\n",
      "</a>\n",
      "</div>\n",
      "<div class=\"cf pop-article clear\">\n",
      "<a class=\"pop-link cf\" href=\"https://thehackernews.com/2022/09/warning-new-unpatched-microsoft.html\">\n",
      "<div class=\"side-pop-image\">\n",
      "<figure class=\"pop-image\">\n",
      "<img alt=\"WARNING: New Unpatched Microsoft Exchange Zero-Day Under Active Exploitation\" border=\"0\" class=\"lazyload\" data-src=\"https://thehackernews.com/new-images/img/b/R29vZ2xl/AVvXsEiSdTaw6OewaYuK66Hu6jP777asZUgnoTyNqf5Tg99v4JsuMISqy2vx641xjRxbHxDQZYP2d74edsn3qFBKhelnB3tAL4nj_0fYtVMy5TxiOrgjVgVOzX6wYp1QFv1q2T40NCxIsaFGaT1HbzwOKAEW3V3V-Mq82jX406RHM9oW1HehMEktlCIZc6Vz/w72-h72-p-k-no-nu/ms-exchnage-zero-day-exploit.jpg\" decoding=\"async\" height=\"72\" src=\"data:image/svg+xml;base64,PHN2ZyB4bWxucz0iaHR0cDovL3d3dy53My5vcmcvMjAwMC9zdmciIHZpZXdCb3g9IjAgMCA3MiA3MiIgd2lkdGg9IjcyIiBoZWlnaHQ9IjcyIj4KICA8cmVjdCB3aWR0aD0iNzIiIGhlaWdodD0iNzIiIGZpbGw9IiNCRUJFQkVGRiI+PC9yZWN0PgogIDx0ZXh0IHg9IjUwJSIgeT0iNTAlIiBkb21pbmFudC1iYXNlbGluZT0ibWlkZGxlIiB0ZXh0LWFuY2hvcj0ibWlkZGxlIiBmb250LWZhbWlseT0ibW9ub3NwYWNlIiBmb250LXNpemU9IjE0cHgiIGZpbGw9IiNGRkZERkRGRiI+Li4uPC90ZXh0PiAgIAo8L3N2Zz4=\" title=\"WARNING: New Unpatched Microsoft Exchange Zero-Day Under Active Exploitation\" width=\"72\"/>\n",
      "</figure>\n",
      "</div>\n",
      "<div class=\"pop-desc\">\n",
      "<div class=\"pop-title\">WARNING: New Unpatched Microsoft Exchange Zero-Day Under Active Exploitation</div>\n",
      "</div>\n",
      "</a>\n",
      "</div>\n",
      "<div class=\"cf pop-article clear\">\n",
      "<a class=\"pop-link cf\" href=\"https://thehackernews.com/2022/09/microsoft-confirms-2-new-exchange-zero.html\">\n",
      "<div class=\"side-pop-image\">\n",
      "<figure class=\"pop-image\">\n",
      "<img alt=\"Microsoft Confirms 2 New Exchange Zero-Day Flaws Being Used in the Wild\" border=\"0\" class=\"lazyload\" data-src=\"https://thehackernews.com/new-images/img/b/R29vZ2xl/AVvXsEhgl2CxdfICXD4YylZ3fmq7SfJser8j-42cMqU2vbSAzyQPe4aSApGawM37IvHE5L5BynSmtvS5oS0W37yOuR2b0ADOCJOYaxGMQw4b-7y_tf3n-L3iYrYCIZPkpyGA0JtfdssxXvGwCr54-CPt4mdR96xiq5tuxt8FFVPA2JX3PSijoskfmmIYDwNS/w72-h72-p-k-no-nu/microsoft-exchange-hacking.jpg\" decoding=\"async\" height=\"72\" src=\"data:image/svg+xml;base64,PHN2ZyB4bWxucz0iaHR0cDovL3d3dy53My5vcmcvMjAwMC9zdmciIHZpZXdCb3g9IjAgMCA3MiA3MiIgd2lkdGg9IjcyIiBoZWlnaHQ9IjcyIj4KICA8cmVjdCB3aWR0aD0iNzIiIGhlaWdodD0iNzIiIGZpbGw9IiNCRUJFQkVGRiI+PC9yZWN0PgogIDx0ZXh0IHg9IjUwJSIgeT0iNTAlIiBkb21pbmFudC1iYXNlbGluZT0ibWlkZGxlIiB0ZXh0LWFuY2hvcj0ibWlkZGxlIiBmb250LWZhbWlseT0ibW9ub3NwYWNlIiBmb250LXNpemU9IjE0cHgiIGZpbGw9IiNGRkZERkRGRiI+Li4uPC90ZXh0PiAgIAo8L3N2Zz4=\" title=\"Microsoft Confirms 2 New Exchange Zero-Day Flaws Being Used in the Wild\" width=\"72\"/>\n",
      "</figure>\n",
      "</div>\n",
      "<div class=\"pop-desc\">\n",
      "<div class=\"pop-title\">Microsoft Confirms 2 New Exchange Zero-Day Flaws Being Used in the Wild</div>\n",
      "</div>\n",
      "</a>\n",
      "</div>\n",
      "<div class=\"cf pop-article clear\">\n",
      "<a class=\"pop-link cf\" href=\"https://thehackernews.com/2022/09/cyber-attacks-against-middle-east.html\">\n",
      "<div class=\"side-pop-image\">\n",
      "<figure class=\"pop-image\">\n",
      "<img alt=\"Cyber Attacks Against Middle East Governments Hide Malware in Windows Logo\" border=\"0\" class=\"lazyload\" data-src=\"https://thehackernews.com/new-images/img/b/R29vZ2xl/AVvXsEhyKCaMoZ7xc2AMZ6K6jbFDEtoBki4LXDtB0XYu34wliRTR2GN9Fftv8aEKyDau_ymzMa65elo-QbzR3fYxyBTBmM4fJxTIHH0t4tgo4RJye6zOCc1hOBBuv_NNW4gp8GFynTcMcVrCzrTOLsD1AlVmsZodtSXoHqgrwu9q0X27qbWtBrVSQEMMviNr/w72-h72-p-k-no-nu/windows-malware.jpg\" decoding=\"async\" height=\"72\" src=\"data:image/svg+xml;base64,PHN2ZyB4bWxucz0iaHR0cDovL3d3dy53My5vcmcvMjAwMC9zdmciIHZpZXdCb3g9IjAgMCA3MiA3MiIgd2lkdGg9IjcyIiBoZWlnaHQ9IjcyIj4KICA8cmVjdCB3aWR0aD0iNzIiIGhlaWdodD0iNzIiIGZpbGw9IiNCRUJFQkVGRiI+PC9yZWN0PgogIDx0ZXh0IHg9IjUwJSIgeT0iNTAlIiBkb21pbmFudC1iYXNlbGluZT0ibWlkZGxlIiB0ZXh0LWFuY2hvcj0ibWlkZGxlIiBmb250LWZhbWlseT0ibW9ub3NwYWNlIiBmb250LXNpemU9IjE0cHgiIGZpbGw9IiNGRkZERkRGRiI+Li4uPC90ZXh0PiAgIAo8L3N2Zz4=\" title=\"Cyber Attacks Against Middle East Governments Hide Malware in Windows Logo\" width=\"72\"/>\n",
      "</figure>\n",
      "</div>\n",
      "<div class=\"pop-desc\">\n",
      "<div class=\"pop-title\">Cyber Attacks Against Middle East Governments Hide Malware in Windows Logo</div>\n",
      "</div>\n",
      "</a>\n",
      "</div>\n",
      "<div class=\"cf pop-article clear\">\n",
      "<a class=\"pop-link cf\" href=\"https://thehackernews.com/2022/09/new-malware-families-found-targeting.html\">\n",
      "<div class=\"side-pop-image\">\n",
      "<figure class=\"pop-image\">\n",
      "<img alt=\"New Malware Families Found Targeting VMware ESXi Hypervisors\" border=\"0\" class=\"lazyload\" data-src=\"https://thehackernews.com/new-images/img/b/R29vZ2xl/AVvXsEhcPOqdWcDgNVd87bwgAKAutunvWhikpKjCjuv10JvNIn8ejMmWpKDirl_m3rJc6y-J2LtcOgK96o06s8pSLM4i6jJu5bEg4IfBd4QWLdkzYsvJNxczESsAlfJGa6erEhEt4XlrQXlQ3OXkYmOZyoa9GiHTJofAdhkWSmfa6TooXjTHQAJ5dOhK0hCM/w72-h72-p-k-no-nu/google.jpg\" decoding=\"async\" height=\"72\" src=\"data:image/svg+xml;base64,PHN2ZyB4bWxucz0iaHR0cDovL3d3dy53My5vcmcvMjAwMC9zdmciIHZpZXdCb3g9IjAgMCA3MiA3MiIgd2lkdGg9IjcyIiBoZWlnaHQ9IjcyIj4KICA8cmVjdCB3aWR0aD0iNzIiIGhlaWdodD0iNzIiIGZpbGw9IiNCRUJFQkVGRiI+PC9yZWN0PgogIDx0ZXh0IHg9IjUwJSIgeT0iNTAlIiBkb21pbmFudC1iYXNlbGluZT0ibWlkZGxlIiB0ZXh0LWFuY2hvcj0ibWlkZGxlIiBmb250LWZhbWlseT0ibW9ub3NwYWNlIiBmb250LXNpemU9IjE0cHgiIGZpbGw9IiNGRkZERkRGRiI+Li4uPC90ZXh0PiAgIAo8L3N2Zz4=\" title=\"New Malware Families Found Targeting VMware ESXi Hypervisors\" width=\"72\"/>\n",
      "</figure>\n",
      "</div>\n",
      "<div class=\"pop-desc\">\n",
      "<div class=\"pop-title\">New Malware Families Found Targeting VMware ESXi Hypervisors</div>\n",
      "</div>\n",
      "</a>\n",
      "</div>\n",
      "</div>\n",
      "</div></div>\n",
      "<div class=\"clear zoho-box\">\n",
      "<a href=\"https://go.thn.li/devlympics-main\" rel=\"nofollow noopener sponsored\" target=\"_blank\" title=\"cyber defense\"><img alt=\"cyber defense\" class=\"lazyload\" data-src=\"https://thehackernews.com/new-images/img/b/R29vZ2xl/AVvXsEinvSiHS2Dw4GbUPe0ROBPDJIOydRonxRmMFqUpKL3HJE06by_ICltVu8078WIkhM5_4qIOX2ZCMnWjmijEWoo2nYOWNRjAlafehOrd8bvkDd-Pt_boaz40MOOMmg7GFThLnCvNwhTzOXEA4PG1DRLlULWRobp50PeSXSba819a1bfStKdHkGK42Dwwnw/s728-e100/Devlympics.png\" decoding=\"async\" src=\"data:image/svg+xml;base64,PHN2ZyB4bWxucz0iaHR0cDovL3d3dy53My5vcmcvMjAwMC9zdmciIHZpZXdCb3g9IjAgMCAzMDAgMjUwIiB3aWR0aD0iMzAwIiBoZWlnaHQ9IjI1MCI+CiAgPHJlY3Qgd2lkdGg9IjMwMCIgaGVpZ2h0PSIyNTAiIGZpbGw9IiNCRUJFQkVGRiI+PC9yZWN0PgogIDx0ZXh0IHg9IjUwJSIgeT0iNTAlIiBkb21pbmFudC1iYXNlbGluZT0ibWlkZGxlIiB0ZXh0LWFuY2hvcj0ibWlkZGxlIiBmb250LWZhbWlseT0ibW9ub3NwYWNlIiBmb250LXNpemU9IjE0cHgiIGZpbGw9IiNGRkZERkRGRiI+Li4uPC90ZXh0PiAgIAo8L3N2Zz4=\" style=\"max-width:300px\"/></a>\n",
      "</div>\n",
      "</aside>\n",
      "</div>\n",
      "</div>\n",
      "</main>\n",
      "<div class=\"deals cf\">\n",
      "<div class=\"deal-box cf\">\n",
      "<div class=\"latest-title cf\">Online Courses and Software</div>\n",
      "<div class=\"cf\">\n",
      "<article class=\"latest cf\"><a class=\"latest-link\" href=\"https://deals.thehackernews.com/sales/the-a-to-z-cyber-security-it-certification-training-bundle\" rel=\"noopener\" target=\"_blank\">\n",
      "<div><img alt=\"Learn Ethical Hacking Online\" class=\"lazyload deal-link\" data-src=\"https://thehackernews.com/new-images/img/b/R29vZ2xl/AVvXsEiI35PZGxaHZD68Ea5xegPuLeSWEhyoS4eYqzEECWzt64wQRQ7MCPbeGR4qIhBAGbt1XdJ6USs2yeFxr0bqF3mtE9Is_pMyL9cSPtiJtbRAxj3lLfSGBcNqegKYr63rMaD8uJtLT8mHEk4EAaq-AUAxDkfdf42CZfEHUtv_M928jHKaXI2EpWSb-0ti9A/s260-e100/hack.jpg\" decoding=\"async\" src=\"data:image/svg+xml;base64,PHN2ZyB4bWxucz0iaHR0cDovL3d3dy53My5vcmcvMjAwMC9zdmciIHZpZXdCb3g9IjAgMCA3MjggMzgwIiB3aWR0aD0iNzI4IiBoZWlnaHQ9IjM4MCI+CiAgPHJlY3Qgd2lkdGg9IjcyOCIgaGVpZ2h0PSIzODAiIGZpbGw9IiNCRUJFQkVGRiI+PC9yZWN0PgogIDx0ZXh0IHg9IjUwJSIgeT0iNTAlIiBkb21pbmFudC1iYXNlbGluZT0ibWlkZGxlIiB0ZXh0LWFuY2hvcj0ibWlkZGxlIiBmb250LWZhbWlseT0ibW9ub3NwYWNlIiBmb250LXNpemU9IjE0cHgiIGZpbGw9IiNGRkZERkRGRiI+Li4uPC90ZXh0PiAgIAo8L3N2Zz4=\"/><noscript><img alt=\"Learn Ethical Hacking Online\" class=\"deal-link\" src=\"https://thehackernews.com/new-images/img/b/R29vZ2xl/AVvXsEiI35PZGxaHZD68Ea5xegPuLeSWEhyoS4eYqzEECWzt64wQRQ7MCPbeGR4qIhBAGbt1XdJ6USs2yeFxr0bqF3mtE9Is_pMyL9cSPtiJtbRAxj3lLfSGBcNqegKYr63rMaD8uJtLT8mHEk4EAaq-AUAxDkfdf42CZfEHUtv_M928jHKaXI2EpWSb-0ti9A/s260-e100/hack.jpg\"/></noscript></div>\n",
      "<div>\n",
      "<div class=\"latest-h3\">A to Z Cybersecurity Certification Training</div>\n",
      "<div class=\"price-tag\">\n",
      "<span class=\"pt-old\">Get Paid to Hack Computer Networks When You Become a Certified Ethical Hacker.</span>\n",
      "</div>\n",
      "</div>\n",
      "</a></article>\n",
      "<article class=\"latest cf\"><a class=\"latest-link\" href=\"https://deals.thehackernews.com/sales/comptia-campus-premium-1-year-subscription\" target=\"_blank\">\n",
      "<div><img alt=\"Unlimited Secure VPN Service\" class=\"lazyload deal-link\" data-src=\"https://thehackernews.com/new-images/img/b/R29vZ2xl/AVvXsEgCP8LsHMCGJ66Sw30XA6l8p0tga-FYZWWXB8yocCCp12NHG1f0ovIFBY5RjuRuiExwLNq8RrXKHLyL5bFXjBb8QUPfLlRKO5bGWKYBcmNM1qUYVAik8mXDEw5gW3jc8tkV8z18vbKFDWb9hnXuPnQINmyfPCn_TAp9v_KHdzVwjfgzTBy-sPkglYelYg/s260-e100/comptia.jpg\" decoding=\"async\" src=\"data:image/svg+xml;base64,PHN2ZyB4bWxucz0iaHR0cDovL3d3dy53My5vcmcvMjAwMC9zdmciIHZpZXdCb3g9IjAgMCA3MjggMzgwIiB3aWR0aD0iNzI4IiBoZWlnaHQ9IjM4MCI+CiAgPHJlY3Qgd2lkdGg9IjcyOCIgaGVpZ2h0PSIzODAiIGZpbGw9IiNCRUJFQkVGRiI+PC9yZWN0PgogIDx0ZXh0IHg9IjUwJSIgeT0iNTAlIiBkb21pbmFudC1iYXNlbGluZT0ibWlkZGxlIiB0ZXh0LWFuY2hvcj0ibWlkZGxlIiBmb250LWZhbWlseT0ibW9ub3NwYWNlIiBmb250LXNpemU9IjE0cHgiIGZpbGw9IiNGRkZERkRGRiI+Li4uPC90ZXh0PiAgIAo8L3N2Zz4=\"/><noscript><img alt=\"CompTIA Campus Premium\" class=\"deal-link\" src=\"https://thehackernews.com/new-images/img/b/R29vZ2xl/AVvXsEgCP8LsHMCGJ66Sw30XA6l8p0tga-FYZWWXB8yocCCp12NHG1f0ovIFBY5RjuRuiExwLNq8RrXKHLyL5bFXjBb8QUPfLlRKO5bGWKYBcmNM1qUYVAik8mXDEw5gW3jc8tkV8z18vbKFDWb9hnXuPnQINmyfPCn_TAp9v_KHdzVwjfgzTBy-sPkglYelYg/s260-e100/comptia.jpg\"/></noscript></div>\n",
      "<div>\n",
      "<div class=\"latest-h3\">CompTIA Campus Premium</div>\n",
      "<div class=\"price-tag\">\n",
      "<span class=\"pt-old\">One-Stop-Shop for All CompTIA Certifications! Get 1-Yr Access to Courses, Live Hands-On Labs, Practice Exams and Updated Content</span>\n",
      "</div>\n",
      "</div>\n",
      "</a></article>\n",
      "<article class=\"latest cf\"><a class=\"latest-link\" href=\"https://deals.thehackernews.com/sales/ultimate-network-and-security-course-bundle\" rel=\"noopener\" target=\"_blank\">\n",
      "<div><img alt=\"Best Hacking Books\" class=\"lazyload deal-link\" data-src=\"https://thehackernews.com/new-images/img/b/R29vZ2xl/AVvXsEimmKZ26nPjNl2ZjmIlqVtP9X1SaF-1z_fMwY1oRIFZVKV8k9SXIxpo5tWyLQkQ79I4hXOhE3fe5H5SgoANx2zIC6PeOeh-wFumVXXq8GtMF-AhCLTI8TlQ5MEBV9UZAs4mfxcgKn_ZaynBDg3JwJK3dCFewhjYJx3Hd2TK_w8r-lirYQj8yeTWnPyYIA/s260-e100/hacking.jpg\" decoding=\"async\" src=\"data:image/svg+xml;base64,PHN2ZyB4bWxucz0iaHR0cDovL3d3dy53My5vcmcvMjAwMC9zdmciIHZpZXdCb3g9IjAgMCA3MjggMzgwIiB3aWR0aD0iNzI4IiBoZWlnaHQ9IjM4MCI+CiAgPHJlY3Qgd2lkdGg9IjcyOCIgaGVpZ2h0PSIzODAiIGZpbGw9IiNCRUJFQkVGRiI+PC9yZWN0PgogIDx0ZXh0IHg9IjUwJSIgeT0iNTAlIiBkb21pbmFudC1iYXNlbGluZT0ibWlkZGxlIiB0ZXh0LWFuY2hvcj0ibWlkZGxlIiBmb250LWZhbWlseT0ibW9ub3NwYWNlIiBmb250LXNpemU9IjE0cHgiIGZpbGw9IiNGRkZERkRGRiI+Li4uPC90ZXh0PiAgIAo8L3N2Zz4=\"/><noscript><img alt=\"Ethical Hacking\" class=\"deal-link\" src=\"https://thehackernews.com/new-images/img/b/R29vZ2xl/AVvXsEimmKZ26nPjNl2ZjmIlqVtP9X1SaF-1z_fMwY1oRIFZVKV8k9SXIxpo5tWyLQkQ79I4hXOhE3fe5H5SgoANx2zIC6PeOeh-wFumVXXq8GtMF-AhCLTI8TlQ5MEBV9UZAs4mfxcgKn_ZaynBDg3JwJK3dCFewhjYJx3Hd2TK_w8r-lirYQj8yeTWnPyYIA/s260-e100/hacking.jpg\"/></noscript></div>\n",
      "<div>\n",
      "<div class=\"latest-h3\">Network, Security and Ethical Hacking</div>\n",
      "<div class=\"price-tag\">\n",
      "<span class=\"pt-old\">Your 28-Hour Roadmap as an Ultimate Security Professional — Master Network Monitoring, PenTesting, and Routing Techniques and Vulnerabilities</span>\n",
      "</div>\n",
      "</div>\n",
      "</a></article>\n",
      "<article class=\"latest cf\"><a class=\"latest-link\" href=\"https://deals.thehackernews.com/sales/the-complete-2022-linux-certification-training-bundle\" rel=\"noopener\" target=\"_blank\">\n",
      "<div><img alt=\"Cisco Certification Courses\" class=\"lazyload deal-link\" data-src=\"https://thehackernews.com/new-images/img/b/R29vZ2xl/AVvXsEhtIq4lKc2RybeE8fg8x1hvFqh2nr1cx6Hy0sQaXshQQ1CjwhceehW_AWliIuIzdpv8niYskXwOh4SmHiT5n_eE-ngP90BcTwZMzJClByVrQdc1ZhfQREek1l4sx7_bFDZgEqc1gFjYKxSOVD5KToTX8UMTyVH9_CPQejpwEzizqO4MUisPIS76OsJnxA/s260-e100/linux.jpg\" decoding=\"async\" src=\"data:image/svg+xml;base64,PHN2ZyB4bWxucz0iaHR0cDovL3d3dy53My5vcmcvMjAwMC9zdmciIHZpZXdCb3g9IjAgMCA3MjggMzgwIiB3aWR0aD0iNzI4IiBoZWlnaHQ9IjM4MCI+CiAgPHJlY3Qgd2lkdGg9IjcyOCIgaGVpZ2h0PSIzODAiIGZpbGw9IiNCRUJFQkVGRiI+PC9yZWN0PgogIDx0ZXh0IHg9IjUwJSIgeT0iNTAlIiBkb21pbmFudC1iYXNlbGluZT0ibWlkZGxlIiB0ZXh0LWFuY2hvcj0ibWlkZGxlIiBmb250LWZhbWlseT0ibW9ub3NwYWNlIiBmb250LXNpemU9IjE0cHgiIGZpbGw9IiNGRkZERkRGRiI+Li4uPC90ZXh0PiAgIAo8L3N2Zz4=\"/><noscript><img alt=\"Linux Certification Courses\" class=\"deal-link\" src=\"https://thehackernews.com/new-images/img/b/R29vZ2xl/AVvXsEhtIq4lKc2RybeE8fg8x1hvFqh2nr1cx6Hy0sQaXshQQ1CjwhceehW_AWliIuIzdpv8niYskXwOh4SmHiT5n_eE-ngP90BcTwZMzJClByVrQdc1ZhfQREek1l4sx7_bFDZgEqc1gFjYKxSOVD5KToTX8UMTyVH9_CPQejpwEzizqO4MUisPIS76OsJnxA/s260-e100/linux.jpg\"/></noscript></div>\n",
      "<div>\n",
      "<div class=\"latest-h3\">Complete Linux Certification Training</div>\n",
      "<div class=\"price-tag\">\n",
      "<span class=\"pt-old\">Know Your Way Around Networks and Client-Server Linux Systems — Techniques, Command Line, Shell Scripting, and More</span>\n",
      "</div>\n",
      "</div>\n",
      "</a></article>\n",
      "</div>\n",
      "</div>\n",
      "</div>\n",
      "<div class=\"clear email-outer\" id=\"email-outer\">\n",
      "<div class=\"email-box\">\n",
      "<form action=\"https://inl02.netline.com/rssnews0001/\" class=\"clear cf\" id=\"subform\" method=\"post\" name=\"f1\" target=\"_blank\">\n",
      "<div class=\"email-box-h3\">Cybersecurity Newsletter — Stay Informed</div>\n",
      "<p>Sign up for cybersecurity newsletter and get latest news updates delivered straight to your inbox daily.</p>\n",
      "<div class=\"email-input\">\n",
      "<input name=\"_submit\" type=\"hidden\" value=\"0001\"/>\n",
      "<input id=\"brand\" name=\"brand\" type=\"hidden\" value=\"thehackernews\"/>\n",
      "<div class=\"e-book\"><input checked=\"yes\" id=\"opt_001\" name=\"opt_001\" type=\"checkbox\" value=\"Y\"/><input checked=\"yes\" id=\"opt_003\" name=\"opt_003\" type=\"checkbox\" value=\"Y\"/></div><label class=\"visuallyhidden\" for=\"input-email\">Email</label><input class=\"text\" id=\"input-email\" name=\"email\" placeholder=\"Enter your email address\" required=\"\" type=\"email\"/>\n",
      "<button aria-label=\"Subscribe\" id=\"submitform\" type=\"submit\" value=\"Subscribe\"></button>\n",
      "</div>\n",
      "</form>\n",
      "</div>\n",
      "</div>\n",
      "<footer class=\"footer cf\">\n",
      "<div class=\"footer-box clear\">\n",
      "<div class=\"footer-stuff clear cf\">\n",
      "<div class=\"footer-box-h4\" id=\"follow-us\">Follow Us</div>\n",
      "<div class=\"follow-box cf\">\n",
      "<div class=\"social-box s-tw\"><a aria-label=\"twitter\" href=\"https://twitter.com/thehackersnews\" rel=\"noopener\" target=\"_blank\"><i class=\"icon-font icon-twitter\"></i><div class=\"sb-text\">850,500 Followers</div></a></div>\n",
      "<div class=\"social-box s-fb\"><a aria-label=\"facebook\" href=\"https://www.facebook.com/thehackernews\" rel=\"noopener\" target=\"_blank\"><i class=\"icon-font icon-facebook\"></i><div class=\"sb-text\">1,950,000 Followers</div></a></div>\n",
      "<div class=\"social-box s-in\"><a aria-label=\"linkedin\" href=\"https://www.linkedin.com/company/thehackernews/\" rel=\"noopener\" target=\"_blank\"><i class=\"icon-font icon-linkedin\"></i><div class=\"sb-text\">350,500 Followers</div></a></div>\n",
      "<div class=\"social-box s-yt\"><a aria-label=\"youtube\" href=\"https://www.youtube.com/c/thehackernews?sub_confirmation=1\" rel=\"noopener\" target=\"_blank\"><i class=\"icon-font icon-youtube\"></i><div class=\"sb-text\">19,900 Subscribers</div></a></div>\n",
      "<div class=\"social-box s-it\"><a aria-label=\"instagram\" href=\"https://www.instagram.com/thehackernews/\" rel=\"noopener\" target=\"_blank\"><i class=\"icon-font icon-instagram\"></i><div class=\"sb-text\">140,500 Followers</div></a></div>\n",
      "</div>\n",
      "<nav class=\"f-menu-box cf\">\n",
      "<div class=\"f-menu-cl-1 cf\">\n",
      "<div class=\"footer-box-h5\">About</div>\n",
      "<ul class=\"cf f-menu-list cf\">\n",
      "<li><a href=\"/p/about-us.html\">About Us</a></li>\n",
      "<li><a href=\"/p/advertising-with-hacker-news.html\">Advertising</a></li>\n",
      "<li><a href=\"/p/authors.html\">Editorial Team</a></li>\n",
      "<li><a href=\"/p/submit-news.html\">Contact</a></li>\n",
      "</ul>\n",
      "</div>\n",
      "<div class=\"f-menu-cl-2 cf\">\n",
      "<div class=\"footer-box-h5\">Pages</div>\n",
      "<ul class=\"cf f-menu-list cf\">\n",
      "<li><a href=\"https://feeds.feedburner.com/TheHackersNews\" rel=\"noopener\" target=\"_blank\">RSS Feeds</a></li>\n",
      "<li><a href=\"https://deals.thehackernews.com\" rel=\"noopener\" target=\"_blank\">Deals Store</a></li>\n",
      "<li><a href=\"/p/privacy-policy.html\">Privacy Policy</a></li>\n",
      "<li><a href=\"/p/careers-technical-writer-designer-and.html\">Jobs</a></li>\n",
      "</ul>\n",
      "</div>\n",
      "<div class=\"f-menu-cl-3 cf\">\n",
      "<div class=\"footer-box-h5\">Deals</div>\n",
      "<ul class=\"cf f-menu-list cf\">\n",
      "<li><a href=\"https://deals.thehackernews.com/collections/citizengoods-exclusives\" rel=\"noopener\" target=\"_blank\">Exclusives</a></li>\n",
      "<li><a href=\"https://deals.thehackernews.com/collections/hacking\" rel=\"noopener\" target=\"_blank\">Hacking</a></li>\n",
      "<li><a href=\"https://deals.thehackernews.com/collections/shop-by-specialization-developer\" rel=\"noopener\" target=\"_blank\">Development</a></li>\n",
      "<li><a href=\"https://deals.thehackernews.com/collections/shop-by-interest-android\" rel=\"noopener\" target=\"_blank\">Android</a></li>\n",
      "</ul>\n",
      "</div>\n",
      "<div class=\"f-menu-cl-4 cf\">\n",
      "<a class=\"f-m-b\" href=\"https://feeds.feedburner.com/TheHackersNews\" rel=\"noopener\" target=\"_blank\"><div class=\"f-menu-bt\"><i class=\"icon-font icon-rss\"></i> RSS Feeds</div></a>\n",
      "<a class=\"f-m-b\" href=\"/p/submit-news.html\"><div class=\"f-menu-bt\"><i class=\"icon-font icon-mail-alt\"></i> Contact Us</div></a>\n",
      "<a class=\"f-m-b\" href=\"https://t.me/joinchat/AAAAADwuDObFWF60CiR-HQ\" rel=\"noopener\" target=\"_blank\"><div class=\"f-menu-bt\"><i class=\"icon-font icon-telegram\"></i> Telegram Channel</div></a>\n",
      "</div>\n",
      "</nav>\n",
      "<div class=\"footer-note cf\">© The Hacker News, 2022. All Rights Reserved.</div>\n",
      "</div>\n",
      "</div>\n",
      "</footer>\n",
      "<script data-cfasync=\"false\">\n",
      "//<![CDATA[\n",
      "!function(a,b){var c=b(a,a.document,Date);a.lazySizes=c,\"object\"==typeof module&&module.exports&&(module.exports=c)}(\"undefined\"!=typeof window?window:{},function(a,b,c){\"use strict\";var d,e;if(function(){var b,c={lazyClass:\"lazyload\",loadedClass:\"lazyloaded\",loadingClass:\"lazyloading\",preloadClass:\"lazypreload\",errorClass:\"lazyerror\",autosizesClass:\"lazyautosizes\",srcAttr:\"data-src\",srcsetAttr:\"data-srcset\",sizesAttr:\"data-sizes\",minSize:40,customMedia:{},init:!0,expFactor:1.5,hFac:.8,loadMode:2,loadHidden:!0,ricTimeout:0,throttleDelay:125};e=a.lazySizesConfig||a.lazysizesConfig||{};for(b in c)b in e||(e[b]=c[b])}(),!b||!b.getElementsByClassName)return{init:function(){},cfg:e,noSupport:!0};var f=b.documentElement,g=a.HTMLPictureElement,h=\"addEventListener\",i=\"getAttribute\",j=a[h].bind(a),k=a.setTimeout,l=a.requestAnimationFrame||k,m=a.requestIdleCallback,n=/^picture$/i,o=[\"load\",\"error\",\"lazyincluded\",\"_lazyloaded\"],p={},q=Array.prototype.forEach,r=function(a,b){return p[b]||(p[b]=new RegExp(\"(\\\\s|^)\"+b+\"(\\\\s|$)\")),p[b].test(a[i](\"class\")||\"\")&&p[b]},s=function(a,b){r(a,b)||a.setAttribute(\"class\",(a[i](\"class\")||\"\").trim()+\" \"+b)},t=function(a,b){var c;(c=r(a,b))&&a.setAttribute(\"class\",(a[i](\"class\")||\"\").replace(c,\" \"))},u=function(a,b,c){var d=c?h:\"removeEventListener\";c&&u(a,b),o.forEach(function(c){a[d](c,b)})},v=function(a,c,e,f,g){var h=b.createEvent(\"Event\");return e||(e={}),e.instance=d,h.initEvent(c,!f,!g),h.detail=e,a.dispatchEvent(h),h},w=function(b,c){var d;!g&&(d=a.picturefill||e.pf)?(c&&c.src&&!b[i](\"srcset\")&&b.setAttribute(\"srcset\",c.src),d({reevaluate:!0,elements:[b]})):c&&c.src&&(b.src=c.src)},x=function(a,b){return(getComputedStyle(a,null)||{})[b]},y=function(a,b,c){for(c=c||a.offsetWidth;c<e.minSize&&b&&!a._lazysizesWidth;)c=b.offsetWidth,b=b.parentNode;return c},z=function(){var a,c,d=[],e=[],f=d,g=function(){var b=f;for(f=d.length?e:d,a=!0,c=!1;b.length;)b.shift()();a=!1},h=function(d,e){a&&!e?d.apply(this,arguments):(f.push(d),c||(c=!0,(b.hidden?k:l)(g)))};return h._lsFlush=g,h}(),A=function(a,b){return b?function(){z(a)}:function(){var b=this,c=arguments;z(function(){a.apply(b,c)})}},B=function(a){var b,d=0,f=e.throttleDelay,g=e.ricTimeout,h=function(){b=!1,d=c.now(),a()},i=m&&g>49?function(){m(h,{timeout:g}),g!==e.ricTimeout&&(g=e.ricTimeout)}:A(function(){k(h)},!0);return function(a){var e;(a=!0===a)&&(g=33),b||(b=!0,e=f-(c.now()-d),e<0&&(e=0),a||e<9?i():k(i,e))}},C=function(a){var b,d,e=99,f=function(){b=null,a()},g=function(){var a=c.now()-d;a<e?k(g,e-a):(m||f)(f)};return function(){d=c.now(),b||(b=k(g,e))}},D=function(){var g,m,o,p,y,D,F,G,H,I,J,K,L=/^img$/i,M=/^iframe$/i,N=\"onscroll\"in a&&!/(gle|ing)bot/.test(navigator.userAgent),O=0,P=0,Q=0,R=-1,S=function(a){Q--,(!a||Q<0||!a.target)&&(Q=0)},T=function(a){return null==K&&(K=\"hidden\"==x(b.body,\"visibility\")),K||!(\"hidden\"==x(a.parentNode,\"visibility\")&&\"hidden\"==x(a,\"visibility\"))},U=function(a,c){var d,e=a,g=T(a);for(G-=c,J+=c,H-=c,I+=c;g&&(e=e.offsetParent)&&e!=b.body&&e!=f;)(g=(x(e,\"opacity\")||1)>0)&&\"visible\"!=x(e,\"overflow\")&&(d=e.getBoundingClientRect(),g=I>d.left&&H<d.right&&J>d.top-1&&G<d.bottom+1);return g},V=function(){var a,c,h,j,k,l,n,o,q,r,s,t,u=d.elements;if((p=e.loadMode)&&Q<8&&(a=u.length)){for(c=0,R++;c<a;c++)if(u[c]&&!u[c]._lazyRace)if(!N||d.prematureUnveil&&d.prematureUnveil(u[c]))ba(u[c]);else if((o=u[c][i](\"data-expand\"))&&(l=1*o)||(l=P),r||(r=!e.expand||e.expand<1?f.clientHeight>500&&f.clientWidth>500?500:370:e.expand,d._defEx=r,s=r*e.expFactor,t=e.hFac,K=null,P<s&&Q<1&&R>2&&p>2&&!b.hidden?(P=s,R=0):P=p>1&&R>1&&Q<6?r:O),q!==l&&(D=innerWidth+l*t,F=innerHeight+l,n=-1*l,q=l),h=u[c].getBoundingClientRect(),(J=h.bottom)>=n&&(G=h.top)<=F&&(I=h.right)>=n*t&&(H=h.left)<=D&&(J||I||H||G)&&(e.loadHidden||T(u[c]))&&(m&&Q<3&&!o&&(p<3||R<4)||U(u[c],l))){if(ba(u[c]),k=!0,Q>9)break}else!k&&m&&!j&&Q<4&&R<4&&p>2&&(g[0]||e.preloadAfterLoad)&&(g[0]||!o&&(J||I||H||G||\"auto\"!=u[c][i](e.sizesAttr)))&&(j=g[0]||u[c]);j&&!k&&ba(j)}},W=B(V),X=function(a){var b=a.target;if(b._lazyCache)return void delete b._lazyCache;S(a),s(b,e.loadedClass),t(b,e.loadingClass),u(b,Z),v(b,\"lazyloaded\")},Y=A(X),Z=function(a){Y({target:a.target})},$=function(a,b){try{a.contentWindow.location.replace(b)}catch(c){a.src=b}},_=function(a){var b,c=a[i](e.srcsetAttr);(b=e.customMedia[a[i](\"data-media\")||a[i](\"media\")])&&a.setAttribute(\"media\",b),c&&a.setAttribute(\"srcset\",c)},aa=A(function(a,b,c,d,f){var g,h,j,l,m,p;(m=v(a,\"lazybeforeunveil\",b)).defaultPrevented||(d&&(c?s(a,e.autosizesClass):a.setAttribute(\"sizes\",d)),h=a[i](e.srcsetAttr),g=a[i](e.srcAttr),f&&(j=a.parentNode,l=j&&n.test(j.nodeName||\"\")),p=b.firesLoad||\"src\"in a&&(h||g||l),m={target:a},s(a,e.loadingClass),p&&(clearTimeout(o),o=k(S,2500),u(a,Z,!0)),l&&q.call(j.getElementsByTagName(\"source\"),_),h?a.setAttribute(\"srcset\",h):g&&!l&&(M.test(a.nodeName)?$(a,g):a.src=g),f&&(h||l)&&w(a,{src:g})),a._lazyRace&&delete a._lazyRace,t(a,e.lazyClass),z(function(){var b=a.complete&&a.naturalWidth>1;p&&!b||(b&&s(a,\"ls-is-cached\"),X(m),a._lazyCache=!0,k(function(){\"_lazyCache\"in a&&delete a._lazyCache},9)),\"lazy\"==a.loading&&Q--},!0)}),ba=function(a){if(!a._lazyRace){var b,c=L.test(a.nodeName),d=c&&(a[i](e.sizesAttr)||a[i](\"sizes\")),f=\"auto\"==d;(!f&&m||!c||!a[i](\"src\")&&!a.srcset||a.complete||r(a,e.errorClass)||!r(a,e.lazyClass))&&(b=v(a,\"lazyunveilread\").detail,f&&E.updateElem(a,!0,a.offsetWidth),a._lazyRace=!0,Q++,aa(a,b,f,d,c))}},ca=C(function(){e.loadMode=3,W()}),da=function(){3==e.loadMode&&(e.loadMode=2),ca()},ea=function(){if(!m){if(c.now()-y<999)return void k(ea,999);m=!0,e.loadMode=3,W(),j(\"scroll\",da,!0)}};return{_:function(){y=c.now(),d.elements=b.getElementsByClassName(e.lazyClass),g=b.getElementsByClassName(e.lazyClass+\" \"+e.preloadClass),j(\"scroll\",W,!0),j(\"resize\",W,!0),j(\"pageshow\",function(a){if(a.persisted){var c=b.querySelectorAll(\".\"+e.loadingClass);c.length&&c.forEach&&l(function(){c.forEach(function(a){a.complete&&ba(a)})})}}),a.MutationObserver?new MutationObserver(W).observe(f,{childList:!0,subtree:!0,attributes:!0}):(f[h](\"DOMNodeInserted\",W,!0),f[h](\"DOMAttrModified\",W,!0),setInterval(W,999)),j(\"hashchange\",W,!0),[\"focus\",\"mouseover\",\"click\",\"load\",\"transitionend\",\"animationend\"].forEach(function(a){b[h](a,W,!0)}),/d$|^c/.test(b.readyState)?ea():(j(\"load\",ea),b[h](\"DOMContentLoaded\",W),k(ea,2e4)),d.elements.length?(V(),z._lsFlush()):W()},checkElems:W,unveil:ba,_aLSL:da}}(),E=function(){var a,c=A(function(a,b,c,d){var e,f,g;if(a._lazysizesWidth=d,d+=\"px\",a.setAttribute(\"sizes\",d),n.test(b.nodeName||\"\"))for(e=b.getElementsByTagName(\"source\"),f=0,g=e.length;f<g;f++)e[f].setAttribute(\"sizes\",d);c.detail.dataAttr||w(a,c.detail)}),d=function(a,b,d){var e,f=a.parentNode;f&&(d=y(a,f,d),e=v(a,\"lazybeforesizes\",{width:d,dataAttr:!!b}),e.defaultPrevented||(d=e.detail.width)&&d!==a._lazysizesWidth&&c(a,f,e,d))},f=function(){var b,c=a.length;if(c)for(b=0;b<c;b++)d(a[b])},g=C(f);return{_:function(){a=b.getElementsByClassName(e.autosizesClass),j(\"resize\",g)},checkElems:g,updateElem:d}}(),F=function(){!F.i&&b.getElementsByClassName&&(F.i=!0,E._(),D._())};return k(function(){e.init&&F()}),d={cfg:e,autoSizer:E,loader:D,init:F,uP:w,aC:s,rC:t,hC:r,fire:v,gW:y,rAF:z}});\n",
      "//]]>\n",
      "</script>\n",
      "<script data-cfasync=\"false\">\n",
      "//<![CDATA[\n",
      "(function(n,t){\"use strict\";function v(){}function u(n,t){if(n){typeof n==\"object\"&&(n=[].slice.call(n));for(var i=0,r=n.length;i<r;i++)t.call(n,n[i],i)}}function rt(n,i){var r=Object.prototype.toString.call(i).slice(8,-1);return i!==t&&i!==null&&r===n}function h(n){return rt(\"Function\",n)}function ut(n){return rt(\"Array\",n)}function st(n){var i=n.split(\"/\"),t=i[i.length-1],r=t.indexOf(\"?\");return r!==-1?t.substring(0,r):t}function f(n){(n=n||v,n._done)||(n(),n._done=1)}function y(n){var t={},i,r;if(typeof n==\"object\")for(i in n)!n[i]||(t={name:i,url:n[i]});else t={name:st(n),url:n};return(r=l[t.name],r&&r.url===t.url)?r:(l[t.name]=t,t)}function p(n){n=n||l;for(var t in n)if(n.hasOwnProperty(t)&&n[t].state!==a)return!1;return!0}function ht(n){n.state=ot,u(n.onpreload,function(n){n.call()})}function ct(n){n.state===t&&(n.state=tt,n.onpreload=[],ft({url:n.url,type:\"cache\"},function(){ht(n)}))}function w(n,t){if(t=t||v,n.state===a){t();return}if(n.state===it){i.ready(n.name,t);return}if(n.state===tt){n.onpreload.push(function(){w(n,t)});return}n.state=it,ft(n,function(){n.state=a,t(),u(s[n.name],function(n){f(n)}),o&&p()&&u(s.ALL,function(n){f(n)})})}function ft(t,i){function e(t){t=t||n.event,u.onload=u.onreadystatechange=u.onerror=null,i()}function o(t){t=t||n.event,(t.type===\"load\"||/loaded|complete/.test(u.readyState)&&(!r.documentMode||r.documentMode<9))&&(u.onload=u.onreadystatechange=u.onerror=null,i())}var u,f;i=i||v,/\\.css[^\\.]*$/.test(t.url)?(u=r.createElement(\"link\"),u.type=\"text/\"+(t.type||\"css\"),u.rel=\"stylesheet\",u.href=t.url):(u=r.createElement(\"script\"),u.type=\"text/\"+(t.type||\"javascript\"),u.src=t.url),u.onload=u.onreadystatechange=o,u.onerror=e,u.async=!1,u.defer=!1,f=r.head||r.getElementsByTagName(\"head\")[0],f.insertBefore(u,f.lastChild)}function e(){if(!r.body){n.clearTimeout(i.readyTimeout),i.readyTimeout=n.setTimeout(e,50);return}o||(o=!0,u(k,function(n){f(n)}))}function b(){r.addEventListener?(r.removeEventListener(\"DOMContentLoaded\",b,!1),e()):r.readyState===\"complete\"&&(r.detachEvent(\"onreadystatechange\",b),e())}var r=n.document,k=[],d=[],s={},l={},et=\"async\"in r.createElement(\"script\")||\"MozAppearance\"in r.documentElement.style||n.opera,g,o,nt=n.head_conf&&n.head_conf.head||\"head\",i=n[nt]=n[nt]||function(){i.ready.apply(null,arguments)},tt=1,ot=2,it=3,a=4,c;if(i.load=et?function(){var t=arguments,n=t[t.length-1],r={};return h(n)||(n=null),u(t,function(i,u){i!==n&&(i=y(i),r[i.name]=i,w(i,n&&u===t.length-2?function(){p(r)&&f(n)}:null))}),i}:function(){var n=arguments,t=[].slice.call(n,1),r=t[0];return g?(r?(u(t,function(n){h(n)||ct(y(n))}),w(y(n[0]),h(r)?r:function(){i.load.apply(null,t)})):w(y(n[0])),i):(d.push(function(){i.load.apply(null,n)}),i)},i.js=i.load,i.test=function(n,t,r,u){var f=typeof n==\"object\"?n:{test:n,success:!t?!1:ut(t)?t:[t],failure:!r?!1:ut(r)?r:[r],callback:u||v},e=!!f.test;return e&&!!f.success?(f.success.push(f.callback),i.load.apply(null,f.success)):e||!f.failure?u():(f.failure.push(f.callback),i.load.apply(null,f.failure)),i},i.ready=function(n,t){var e,u;return n===r?(o?f(t):k.push(t),i):(h(n)&&(t=n,n=\"ALL\"),typeof n!=\"string\"||!h(t))?i:(e=l[n],e&&e.state===a||n===\"ALL\"&&p()&&o)?(f(t),i):(u=s[n],u?u.push(t):u=s[n]=[t],i)},i.ready(r,function(){p()&&u(s.ALL,function(n){f(n)}),i.feature&&i.feature(\"domloaded\",!0)}),r.readyState===\"complete\")e();else if(r.addEventListener)r.addEventListener(\"DOMContentLoaded\",b,!1),n.addEventListener(\"load\",e,!1);else{r.attachEvent(\"onreadystatechange\",b),n.attachEvent(\"onload\",e),c=!1;try{c=!n.frameElement&&r.documentElement}catch(at){}c&&c.doScroll&&function lt(){if(!o){try{c.doScroll(\"left\")}catch(t){n.clearTimeout(i.readyTimeout),i.readyTimeout=n.setTimeout(lt,50);return}e()}}()}setTimeout(function(){g=!0,u(d,function(n){n()})},300)})(window);\n",
      "//]]>\n",
      "</script>\n",
      "<script type=\"eb6d8edf872badfd2cc1386d-text/javascript\">\n",
      "//<![CDATA[\n",
      "head.ready(document,function(){head.load({jqueryfile:\"https://cdnjs.cloudflare.com/ajax/libs/jquery/3.6.0/jquery.min.js\"},{google:\"https://pagead2.googlesyndication.com/pagead/js/adsbygoogle.js\"})}),head.ready(\"jqueryfile\",function(){$(\".articlebody div\").css(\"text-align\",\"left\"),$(\".ad_two\").css(\"text-align\",\"center\"),$(\".articlebody .separator a\").css(\"margin-bottom\",\"15px\"),$(\".articlebody .separator a\").css(\"margin-left\",\"0\"),$(\".menu-more, .m-menu-more\").click(function(){$(\".overlay\").fadeToggle(\"fast\"),$(\".button a\").toggleClass(\"btn-open\").toggleClass(\"btn-close\"),$(\"html, body\").css(\"overflow\",\"hidden\")}),$(\".btn-close\").on(\"click\",function(){$(\".overlay\").fadeToggle(\"fast\"),$(\".button a\").toggleClass(\"btn-open\").toggleClass(\"btn-close\"),$(\"html, body\").css(\"overflow\",\"auto\"),open=!1});var e=$(\".share-modal\");$(\".share-show-modal, .fs-more\").click(function(){e.fadeIn(),$(\"html, body\").css(\"overflow\",\"hidden\")}),$(\".share-close-modal\").click(function(){e.fadeOut(),$(\"html, body\").css(\"overflow\",\"auto\")}),$(\".search-here, .m-search-here\").on(\"click\",function(){$(\".search-here i\").hasClass(\"icon-search\")?$(\".search-here i\").removeClass(\"icon-search\").addClass(\"fa-times\"):$(\".search-here i\").removeClass(\"fa-times\").addClass(\"icon-search\"),$(\".search-box\").slideToggle(),$(\".search-b input\").focus()})});\n",
      "//]]>\n",
      "</script>\n",
      "<script type=\"application/ld+json\">\n",
      "                {\n",
      "                    \"@context\": \"https://schema.org\",\n",
      "                    \"@type\": \"Organization\",\n",
      "                    \"description\":\"The Hacker News is the most popular, independent and trusted source for the latest news headlines on cybersecurity, hacking, computer security, cybercrime, privacy, vulnerabilities and technology for all businesses, information security professionals and hackers worldwide.\",\n",
      "                    \"name\": \"The Hacker News\",\n",
      "                    \"email\": \"admin@thehackernews.com\",\n",
      "                    \"logo\": {\n",
      "                    \"@type\": \"ImageObject\",\n",
      "                    \"url\": \"https://thehackernews.com/images/-lr1jzOJlY3g/Wzjug8yO0UI/AAAAAAAAxSk/pVpxFhgIHRcIbASdYo3YSDZLB8p3ytjqACLcBGAs/s460-e100/the-hacker-news.jpg\",\n",
      "                    \"width\": 460,\n",
      "                    \"height\": 60\n",
      "                    },\n",
      "                    \"url\": \"https://thehackernews.com/\",\n",
      "                    \"sameAs\" : [\"https://twitter.com/thehackersnews\",\n",
      "                    \t\t\t\"https://www.facebook.com/thehackernews\",\n",
      "                    \t\t\t\"https://www.linkedin.com/company/thehackernews/\",\n",
      "                    \t\t\t\"https://www.youtube.com/c/thehackernews\",\n",
      "                    \t\t\t\"https://www.instagram.com/thehackernews/\",\n",
      "\t\t\t\t\t\t\t\t\"https://www.crunchbase.com/organization/the-hacker-news\",\n",
      "\t\t\t\t\t\t\t\t\"https://www.facebook.com/groups/thehackernews\",\n",
      "                                \"https://www.quora.com/topic/The-Hacker-News\",\n",
      "                                \"https://telegram.me/thehackernews\",\n",
      "                                \"https://vk.com/thehackernews\",\n",
      "                    \t\t\t\"https://www.pinterest.com/thehackernews/\"]\n",
      "                }\n",
      "</script>\n",
      "<script type=\"application/ld+json\">\n",
      "                {\n",
      "                    \"@context\": \"https://schema.org\",\n",
      "                    \"@type\": \"WebSite\",\n",
      "                    \"name\": \"The Hacker News\",\n",
      "                    \"url\": \"https://thehackernews.com/\",\n",
      "                    \"potentialAction\": {\n",
      "                        \"@type\": \"SearchAction\",\n",
      "                        \"target\": \"https://thehackernews.com/search?q={search_term_string}\",\n",
      "                        \"query-input\": \"required name=search_term_string\"\n",
      "                    }\n",
      "                }\n",
      "</script>\n",
      "<script type=\"eb6d8edf872badfd2cc1386d-text/javascript\">\n",
      "//<![CDATA[\n",
      "if ('serviceWorker' in navigator) {\n",
      "    window.addEventListener('load', () => {\n",
      "      navigator.serviceWorker.register('/sw.js').then(registration => {\n",
      "      }).catch(registrationError => {\n",
      "        console.log('SW registration failed: ', registrationError);\n",
      "      });\n",
      "    });\n",
      "  }\n",
      "//]]>\n",
      "</script>\n",
      "<script data-cf-settings=\"eb6d8edf872badfd2cc1386d-|49\" defer=\"\" src=\"/cdn-cgi/scripts/7d0fa10a/cloudflare-static/rocket-loader.min.js\"></script></body></html>\n"
     ]
    }
   ],
   "source": [
    "home_page_soup = link_to_soup('https://thehackernews.com/')\n",
    "print(home_page_soup)"
   ]
  },
  {
   "cell_type": "markdown",
   "metadata": {},
   "source": [
    "We are able to parse the html document as well. Let's ask the user, for how many pages, the data has to be extracted."
   ]
  },
  {
   "cell_type": "code",
   "execution_count": 4,
   "metadata": {},
   "outputs": [
    {
     "name": "stdout",
     "output_type": "stream",
     "text": [
      "How many pages to extract the data from? 10\n"
     ]
    }
   ],
   "source": [
    "No_pages = int(input('How many pages to extract the data from? '))"
   ]
  },
  {
   "cell_type": "markdown",
   "metadata": {},
   "source": [
    "We will parse the the rest of the pages and append all of the pages to the array 'pages'"
   ]
  },
  {
   "cell_type": "code",
   "execution_count": 5,
   "metadata": {},
   "outputs": [],
   "source": [
    "pages = []\n",
    "pages.append(home_page_soup)\n",
    "No_pages -= 1\n",
    "for i in range(No_pages):\n",
    "    next_page_link = pages[i].find(\"a\", class_=\"blog-pager-older-link-mobile\")['href']\n",
    "    pages.append(link_to_soup(next_page_link))\n",
    "    "
   ]
  },
  {
   "cell_type": "markdown",
   "metadata": {},
   "source": [
    "Now we have all the pages parsed to extract the data from. So, let's extract all the data."
   ]
  },
  {
   "cell_type": "code",
   "execution_count": 6,
   "metadata": {},
   "outputs": [
    {
     "name": "stdout",
     "output_type": "stream",
     "text": [
      "URL of 1st post:  https://thehackernews.com/2022/10/experts-warn-of-new-ratmilad-android.html\n",
      "Description of 1st post:   A novel Android malware called RatMilad has been observed targeting a Middle Eastern enterprise mobile device by concealing itself as a VPN and phone number spoofing app.  The mobile trojan functions as advanced spyware with capabilities that receives and executes commands to collect and exfiltrate a wide variety of data from the infected mobile endpoint, Zimperium  said  in a report shared with The Hacker News.  Evidence gathered by the mobile security company shows that the malicious app is distributed through links on social media and communication tools like Telegram, tricking unsuspecting users into sideloading the app and granting it extensive permissions.   The idea behind embedding the malware within a fake VPN and phone number spoofing service is also clever in that the app claims to enable users to verify social media accounts via phone, a technique popular in countries where access is restricted.  \"Once installed and in control, the attackers could access the camera to\n",
      "Author of the 1st post:  Ravie Lakshmanan\n",
      "Image source of the 1st post:  https://thehackernews.com/new-images/img/b/R29vZ2xl/AVvXsEhwUeDgh3fvGYt_cm1mWspLztCcA6pV5LIsy4pj0Qp-ph9ih0pt7OxLontw44i0xly-1FIFqcNbB_5DFoWmTBS8z-wPUE1AgvjXw4-L5pemF3QU9_DeJxFFdm0r62OjjVcrXP6cZ0WruFz0mCdQgZt_kvZWfTPQWZefxgS33n7w1kgoeEWcBw5bLA4E/s728-e1000/android.jpg\n",
      "Title of the 1st post:  Experts Warn of New RatMilad Android Spyware Targeting Enterprise Devices\n"
     ]
    }
   ],
   "source": [
    "posts_url_title_data = []\n",
    "posts_url_others_data = []\n",
    "\n",
    "for page in pages:\n",
    "    posts_in_page = home_page_soup.find_all(\"a\", class_='story-link')\n",
    "    for post in posts_in_page:\n",
    "        posts_url_title_data.append({\n",
    "        \"url\" : post['href'],\n",
    "        \"title\" : post.find(\"h2\", class_='home-title').text\n",
    "        })\n",
    "        \n",
    "        posts_url_others_data.append({\n",
    "        \"url\" : post['href'],\n",
    "        \"desc\" : post.find(\"div\", class_='home-desc').text,\n",
    "        \"author\" : post.find(\"span\").text[1:len(post.find(\"span\").text)-1],\n",
    "        \"imgSrc\" : post.find(\"img\")['data-src']\n",
    "        })\n",
    "    \n",
    "print('URL of 1st post: ', posts_url_title_data[0]['url'])\n",
    "print('Description of 1st post: ', posts_url_others_data[0]['desc'])\n",
    "print('Author of the 1st post: ', posts_url_others_data[0]['author'])\n",
    "print('Image source of the 1st post: ', posts_url_others_data[0]['imgSrc'])\n",
    "print('Title of the 1st post: ', posts_url_title_data[0]['title'])"
   ]
  },
  {
   "cell_type": "markdown",
   "metadata": {},
   "source": [
    "Metadata of all posts from all pages is extracted. Phase 1 completed!"
   ]
  },
  {
   "cell_type": "markdown",
   "metadata": {},
   "source": [
    "## Phase 2: Store the data"
   ]
  },
  {
   "cell_type": "markdown",
   "metadata": {},
   "source": [
    "### Phase 2a:  Store the data in a MongoDb database\n",
    "\n",
    "We'll store the data in two documents having:\n",
    "1. Url and title of the blog\n",
    "2. Url and Desription, Image, Author)"
   ]
  },
  {
   "cell_type": "markdown",
   "metadata": {},
   "source": [
    "First, Let's connect to the mongodb server by asking the user MongoDbURI"
   ]
  },
  {
   "cell_type": "code",
   "execution_count": null,
   "metadata": {},
   "outputs": [],
   "source": [
    "mongoDbURI = input('Enter the mongoDbURI: ')\n",
    "client = MongoClient(mongoDbURI) # for users running mongo server on local machine: 'mongodb://localhost:27017/'"
   ]
  },
  {
   "cell_type": "code",
   "execution_count": null,
   "metadata": {},
   "outputs": [],
   "source": [
    "# Getting the database\n",
    "db = client['hackernews']\n",
    "\n",
    "# Getting the collections\n",
    "urlTitle = db['url-title']\n",
    "urlOthers = db['url-others']"
   ]
  },
  {
   "cell_type": "markdown",
   "metadata": {},
   "source": [
    "Connection done, now we'll insert the data."
   ]
  },
  {
   "cell_type": "code",
   "execution_count": null,
   "metadata": {},
   "outputs": [],
   "source": [
    "result1 = urlTitle.insert_many(posts_url_title_data)\n",
    "result2 = urlOthers.insert_many(posts_url_others_data)"
   ]
  },
  {
   "cell_type": "markdown",
   "metadata": {},
   "source": [
    "Let's check if the values were inserted properly."
   ]
  },
  {
   "cell_type": "code",
   "execution_count": null,
   "metadata": {},
   "outputs": [],
   "source": [
    "print(result1.inserted_ids[:5])\n",
    "print(result2.inserted_ids[:5])"
   ]
  },
  {
   "cell_type": "markdown",
   "metadata": {},
   "source": [
    "We can see the Object Ids of the inserted documents, that means the documents were inserted to the database successfully.\n",
    "\n",
    "Phase 2a completed!"
   ]
  },
  {
   "cell_type": "markdown",
   "metadata": {},
   "source": [
    "### Phase 2b: Save the data as JSON\n",
    "\n",
    "We will save the data as a single JSON file, merging `posts_url_title_data` with `posts_url_others_data`."
   ]
  },
  {
   "cell_type": "code",
   "execution_count": null,
   "metadata": {},
   "outputs": [],
   "source": [
    "# Merge data into a single dictionary\n",
    "n = len(posts_url_title_data)\n",
    "posts_url_data = [ dict(posts_url_title_data[0], **posts_url_others_data[0]) for i in range(n) ]"
   ]
  },
  {
   "cell_type": "code",
   "execution_count": null,
   "metadata": {},
   "outputs": [],
   "source": [
    "output_location = input(\"Enter the location to save the JSON to: \")\n",
    "output_path = Path(output_location)\n",
    "\n",
    "# Create any necessary parent directories\n",
    "if not output_path.parent.exists():\n",
    "    print(\"Directory {} does not exist, creating.\".format(output_path.parent))\n",
    "    output_path.parent.mkdir(parents=True)\n",
    "\n",
    "# Save JSON\n",
    "with open(output_path, \"w\") as output_file:\n",
    "    print(\"Saving to {}.\".format(output_path))\n",
    "    output_file.write(json.dumps(posts_url_data))\n",
    "\n",
    "print(\"Done!\")"
   ]
  },
  {
   "cell_type": "markdown",
   "metadata": {},
   "source": [
    "### Phase 2c: Save data in MySQL using pymysql ORM"
   ]
  },
  {
   "cell_type": "code",
   "execution_count": 7,
   "metadata": {},
   "outputs": [],
   "source": [
    "## connect to mysql db\n",
    "import pymysql\n",
    "def mysqlconnect():\n",
    "    # To connect MySQL database\n",
    "    conn = pymysql.connect(\n",
    "        host='localhost',\n",
    "        user='root', \n",
    "        password = \"Password1!\",\n",
    "        db='scraper',\n",
    "        )\n",
    "    return conn"
   ]
  },
  {
   "cell_type": "code",
   "execution_count": 8,
   "metadata": {
    "scrolled": true
   },
   "outputs": [],
   "source": [
    "conn_obj = mysqlconnect()"
   ]
  },
  {
   "cell_type": "code",
   "execution_count": 9,
   "metadata": {},
   "outputs": [],
   "source": [
    "conn_cursor = conn_obj.cursor()"
   ]
  },
  {
   "cell_type": "markdown",
   "metadata": {},
   "source": [
    "### SQL relation model setup queries"
   ]
  },
  {
   "cell_type": "code",
   "execution_count": 10,
   "metadata": {},
   "outputs": [],
   "source": [
    "# DB creation\n",
    "sql_db_create = \"create database if not exists scraper;\"\n",
    "\n",
    "# Use DB created\n",
    "sql_use_db = \"use scraper;\"\n",
    "\n",
    "# create table \"urlTitle\" to store [urlLink, urlTitle]\n",
    "sql_create_urlTitle_table = \"create table if not exists urltitle(\\\n",
    "  url_title_id int auto_increment primary key,\\\n",
    "  url_link text not null,\\\n",
    "  url_title text not null)\"\n",
    "\n",
    "# create table \"urlotherInfo\" to store [urlLink, urlTitle, urlAuthor, urlImgSrc]\n",
    "sql_create_urlOtherInfo_table = \"create table if not exists urlotherinfo(\\\n",
    "  id int auto_increment primary key,\\\n",
    "  url_link text not null,\\\n",
    "  url_description text not null,\\\n",
    "  author text not null,\\\n",
    "  imgsrc text not null)\"\n"
   ]
  },
  {
   "cell_type": "markdown",
   "metadata": {},
   "source": [
    "### SQL Queries execution"
   ]
  },
  {
   "cell_type": "code",
   "execution_count": 11,
   "metadata": {},
   "outputs": [
    {
     "data": {
      "text/plain": [
       "1"
      ]
     },
     "execution_count": 11,
     "metadata": {},
     "output_type": "execute_result"
    }
   ],
   "source": [
    "conn_cursor.execute(sql_db_create)"
   ]
  },
  {
   "cell_type": "code",
   "execution_count": 12,
   "metadata": {},
   "outputs": [
    {
     "name": "stdout",
     "output_type": "stream",
     "text": [
      "()\n"
     ]
    }
   ],
   "source": [
    "conn_cursor.execute(\"use scraper\")\n",
    "output=conn_cursor.fetchall()\n",
    "print(output)"
   ]
  },
  {
   "cell_type": "code",
   "execution_count": 13,
   "metadata": {},
   "outputs": [
    {
     "data": {
      "text/plain": [
       "0"
      ]
     },
     "execution_count": 13,
     "metadata": {},
     "output_type": "execute_result"
    }
   ],
   "source": [
    "conn_cursor.execute(sql_create_urlTitle_table)"
   ]
  },
  {
   "cell_type": "code",
   "execution_count": 14,
   "metadata": {},
   "outputs": [
    {
     "data": {
      "text/plain": [
       "0"
      ]
     },
     "execution_count": 14,
     "metadata": {},
     "output_type": "execute_result"
    }
   ],
   "source": [
    "conn_cursor.execute(sql_create_urlOtherInfo_table)"
   ]
  },
  {
   "cell_type": "code",
   "execution_count": 15,
   "metadata": {},
   "outputs": [
    {
     "name": "stdout",
     "output_type": "stream",
     "text": [
      "(('urlotherinfo',), ('urltitle',))\n"
     ]
    }
   ],
   "source": [
    "conn_cursor.execute(\"show tables\")\n",
    "output = conn_cursor.fetchall()\n",
    "print(output)"
   ]
  },
  {
   "cell_type": "markdown",
   "metadata": {},
   "source": [
    "### Save the data in DB tables "
   ]
  },
  {
   "cell_type": "code",
   "execution_count": 16,
   "metadata": {},
   "outputs": [],
   "source": [
    "sql_insert_urlTitle = \"insert into urltitle(url_link, url_title) values (%s, %s)\"\n",
    "sql_insert_urlOtherInfo = \"insert into urlotherinfo(url_link, url_description, author, imgSrc) values (%s, %s, %s, %s)\"\n",
    "for url_title, url_other in zip(posts_url_title_data, posts_url_others_data):\n",
    "    conn_cursor.execute(sql_insert_urlTitle, (url_title[\"url\"], url_title[\"title\"]))\n",
    "    output = conn_cursor.fetchall()\n",
    "    conn_cursor.execute(sql_insert_urlOtherInfo, (url_other[\"url\"], url_other[\"desc\"], url_other[\"author\"], url_other[\"imgSrc\"]))\n",
    "    "
   ]
  },
  {
   "cell_type": "code",
   "execution_count": 17,
   "metadata": {},
   "outputs": [
    {
     "name": "stdout",
     "output_type": "stream",
     "text": [
      "((1, 'http://localhost', 'sample title'), (2, 'http://localhost', 'sample title'), (3, 'https://thehackernews.com/2022/10/experts-warn-of-new-ratmilad-android.html', 'Experts Warn of New RatMilad Android Spyware Targeting Enterprise Devices'), (4, 'https://thehackernews.com/2022/10/telstra-telecom-suffers-data-breach.html', 'Telstra Telecom Suffers Data Breach Potentially Exposing Employee Information'), (5, 'https://thehackernews.com/2022/10/fbi-cisa-and-nsa-reveal-how-hackers.html', 'FBI, CISA, and NSA Reveal How Hackers Targeted a Defense Industrial Base Organization'), (6, 'https://thehackernews.com/2022/10/want-more-secure-software-start.html', 'Want More Secure Software? Start Recognizing Security-Skilled Developers'), (7, 'https://thehackernews.com/2022/10/canadian-netwalker-ransomware-affiliate.html', 'Canadian Netwalker Ransomware Affiliate Sentenced to 20 Years in U.S. Prison'), (8, 'https://thehackernews.com/2022/10/mitigation-for-exchange-zero-days.html', 'Mitigation for Exchange Zero-Days Bypassed! Microsoft Issues New Workarounds'), (9, 'https://thehackernews.com/2022/10/russian-hacker-arrested-in-india-for.html', 'Russian Hacker Arrested in India for Reportedly Helping Students Cheat in JEE-Main Exam'), (10, 'https://thehackernews.com/2022/10/experts-warn-of-new-ratmilad-android.html', 'Experts Warn of New RatMilad Android Spyware Targeting Enterprise Devices'), (11, 'https://thehackernews.com/2022/10/telstra-telecom-suffers-data-breach.html', 'Telstra Telecom Suffers Data Breach Potentially Exposing Employee Information'), (12, 'https://thehackernews.com/2022/10/fbi-cisa-and-nsa-reveal-how-hackers.html', 'FBI, CISA, and NSA Reveal How Hackers Targeted a Defense Industrial Base Organization'), (13, 'https://thehackernews.com/2022/10/want-more-secure-software-start.html', 'Want More Secure Software? Start Recognizing Security-Skilled Developers'), (14, 'https://thehackernews.com/2022/10/canadian-netwalker-ransomware-affiliate.html', 'Canadian Netwalker Ransomware Affiliate Sentenced to 20 Years in U.S. Prison'), (15, 'https://thehackernews.com/2022/10/mitigation-for-exchange-zero-days.html', 'Mitigation for Exchange Zero-Days Bypassed! Microsoft Issues New Workarounds'), (16, 'https://thehackernews.com/2022/10/russian-hacker-arrested-in-india-for.html', 'Russian Hacker Arrested in India for Reportedly Helping Students Cheat in JEE-Main Exam'), (17, 'https://thehackernews.com/2022/10/experts-warn-of-new-ratmilad-android.html', 'Experts Warn of New RatMilad Android Spyware Targeting Enterprise Devices'), (18, 'https://thehackernews.com/2022/10/telstra-telecom-suffers-data-breach.html', 'Telstra Telecom Suffers Data Breach Potentially Exposing Employee Information'), (19, 'https://thehackernews.com/2022/10/fbi-cisa-and-nsa-reveal-how-hackers.html', 'FBI, CISA, and NSA Reveal How Hackers Targeted a Defense Industrial Base Organization'), (20, 'https://thehackernews.com/2022/10/want-more-secure-software-start.html', 'Want More Secure Software? Start Recognizing Security-Skilled Developers'), (21, 'https://thehackernews.com/2022/10/canadian-netwalker-ransomware-affiliate.html', 'Canadian Netwalker Ransomware Affiliate Sentenced to 20 Years in U.S. Prison'), (22, 'https://thehackernews.com/2022/10/mitigation-for-exchange-zero-days.html', 'Mitigation for Exchange Zero-Days Bypassed! Microsoft Issues New Workarounds'), (23, 'https://thehackernews.com/2022/10/russian-hacker-arrested-in-india-for.html', 'Russian Hacker Arrested in India for Reportedly Helping Students Cheat in JEE-Main Exam'), (24, 'https://thehackernews.com/2022/10/experts-warn-of-new-ratmilad-android.html', 'Experts Warn of New RatMilad Android Spyware Targeting Enterprise Devices'), (25, 'https://thehackernews.com/2022/10/telstra-telecom-suffers-data-breach.html', 'Telstra Telecom Suffers Data Breach Potentially Exposing Employee Information'), (26, 'https://thehackernews.com/2022/10/fbi-cisa-and-nsa-reveal-how-hackers.html', 'FBI, CISA, and NSA Reveal How Hackers Targeted a Defense Industrial Base Organization'), (27, 'https://thehackernews.com/2022/10/want-more-secure-software-start.html', 'Want More Secure Software? Start Recognizing Security-Skilled Developers'), (28, 'https://thehackernews.com/2022/10/canadian-netwalker-ransomware-affiliate.html', 'Canadian Netwalker Ransomware Affiliate Sentenced to 20 Years in U.S. Prison'), (29, 'https://thehackernews.com/2022/10/mitigation-for-exchange-zero-days.html', 'Mitigation for Exchange Zero-Days Bypassed! Microsoft Issues New Workarounds'), (30, 'https://thehackernews.com/2022/10/russian-hacker-arrested-in-india-for.html', 'Russian Hacker Arrested in India for Reportedly Helping Students Cheat in JEE-Main Exam'), (31, 'https://thehackernews.com/2022/10/experts-warn-of-new-ratmilad-android.html', 'Experts Warn of New RatMilad Android Spyware Targeting Enterprise Devices'), (32, 'https://thehackernews.com/2022/10/telstra-telecom-suffers-data-breach.html', 'Telstra Telecom Suffers Data Breach Potentially Exposing Employee Information'), (33, 'https://thehackernews.com/2022/10/fbi-cisa-and-nsa-reveal-how-hackers.html', 'FBI, CISA, and NSA Reveal How Hackers Targeted a Defense Industrial Base Organization'), (34, 'https://thehackernews.com/2022/10/want-more-secure-software-start.html', 'Want More Secure Software? Start Recognizing Security-Skilled Developers'), (35, 'https://thehackernews.com/2022/10/canadian-netwalker-ransomware-affiliate.html', 'Canadian Netwalker Ransomware Affiliate Sentenced to 20 Years in U.S. Prison'), (36, 'https://thehackernews.com/2022/10/mitigation-for-exchange-zero-days.html', 'Mitigation for Exchange Zero-Days Bypassed! Microsoft Issues New Workarounds'), (37, 'https://thehackernews.com/2022/10/russian-hacker-arrested-in-india-for.html', 'Russian Hacker Arrested in India for Reportedly Helping Students Cheat in JEE-Main Exam'), (38, 'https://thehackernews.com/2022/10/experts-warn-of-new-ratmilad-android.html', 'Experts Warn of New RatMilad Android Spyware Targeting Enterprise Devices'), (39, 'https://thehackernews.com/2022/10/telstra-telecom-suffers-data-breach.html', 'Telstra Telecom Suffers Data Breach Potentially Exposing Employee Information'), (40, 'https://thehackernews.com/2022/10/fbi-cisa-and-nsa-reveal-how-hackers.html', 'FBI, CISA, and NSA Reveal How Hackers Targeted a Defense Industrial Base Organization'), (41, 'https://thehackernews.com/2022/10/want-more-secure-software-start.html', 'Want More Secure Software? Start Recognizing Security-Skilled Developers'), (42, 'https://thehackernews.com/2022/10/canadian-netwalker-ransomware-affiliate.html', 'Canadian Netwalker Ransomware Affiliate Sentenced to 20 Years in U.S. Prison'), (43, 'https://thehackernews.com/2022/10/mitigation-for-exchange-zero-days.html', 'Mitigation for Exchange Zero-Days Bypassed! Microsoft Issues New Workarounds'), (44, 'https://thehackernews.com/2022/10/russian-hacker-arrested-in-india-for.html', 'Russian Hacker Arrested in India for Reportedly Helping Students Cheat in JEE-Main Exam'), (45, 'https://thehackernews.com/2022/10/experts-warn-of-new-ratmilad-android.html', 'Experts Warn of New RatMilad Android Spyware Targeting Enterprise Devices'), (46, 'https://thehackernews.com/2022/10/telstra-telecom-suffers-data-breach.html', 'Telstra Telecom Suffers Data Breach Potentially Exposing Employee Information'), (47, 'https://thehackernews.com/2022/10/fbi-cisa-and-nsa-reveal-how-hackers.html', 'FBI, CISA, and NSA Reveal How Hackers Targeted a Defense Industrial Base Organization'), (48, 'https://thehackernews.com/2022/10/want-more-secure-software-start.html', 'Want More Secure Software? Start Recognizing Security-Skilled Developers'), (49, 'https://thehackernews.com/2022/10/canadian-netwalker-ransomware-affiliate.html', 'Canadian Netwalker Ransomware Affiliate Sentenced to 20 Years in U.S. Prison'), (50, 'https://thehackernews.com/2022/10/mitigation-for-exchange-zero-days.html', 'Mitigation for Exchange Zero-Days Bypassed! Microsoft Issues New Workarounds'), (51, 'https://thehackernews.com/2022/10/russian-hacker-arrested-in-india-for.html', 'Russian Hacker Arrested in India for Reportedly Helping Students Cheat in JEE-Main Exam'), (52, 'https://thehackernews.com/2022/10/experts-warn-of-new-ratmilad-android.html', 'Experts Warn of New RatMilad Android Spyware Targeting Enterprise Devices'), (53, 'https://thehackernews.com/2022/10/telstra-telecom-suffers-data-breach.html', 'Telstra Telecom Suffers Data Breach Potentially Exposing Employee Information'), (54, 'https://thehackernews.com/2022/10/fbi-cisa-and-nsa-reveal-how-hackers.html', 'FBI, CISA, and NSA Reveal How Hackers Targeted a Defense Industrial Base Organization'), (55, 'https://thehackernews.com/2022/10/want-more-secure-software-start.html', 'Want More Secure Software? Start Recognizing Security-Skilled Developers'), (56, 'https://thehackernews.com/2022/10/canadian-netwalker-ransomware-affiliate.html', 'Canadian Netwalker Ransomware Affiliate Sentenced to 20 Years in U.S. Prison'), (57, 'https://thehackernews.com/2022/10/mitigation-for-exchange-zero-days.html', 'Mitigation for Exchange Zero-Days Bypassed! Microsoft Issues New Workarounds'), (58, 'https://thehackernews.com/2022/10/russian-hacker-arrested-in-india-for.html', 'Russian Hacker Arrested in India for Reportedly Helping Students Cheat in JEE-Main Exam'), (59, 'https://thehackernews.com/2022/10/experts-warn-of-new-ratmilad-android.html', 'Experts Warn of New RatMilad Android Spyware Targeting Enterprise Devices'), (60, 'https://thehackernews.com/2022/10/telstra-telecom-suffers-data-breach.html', 'Telstra Telecom Suffers Data Breach Potentially Exposing Employee Information'), (61, 'https://thehackernews.com/2022/10/fbi-cisa-and-nsa-reveal-how-hackers.html', 'FBI, CISA, and NSA Reveal How Hackers Targeted a Defense Industrial Base Organization'), (62, 'https://thehackernews.com/2022/10/want-more-secure-software-start.html', 'Want More Secure Software? Start Recognizing Security-Skilled Developers'), (63, 'https://thehackernews.com/2022/10/canadian-netwalker-ransomware-affiliate.html', 'Canadian Netwalker Ransomware Affiliate Sentenced to 20 Years in U.S. Prison'), (64, 'https://thehackernews.com/2022/10/mitigation-for-exchange-zero-days.html', 'Mitigation for Exchange Zero-Days Bypassed! Microsoft Issues New Workarounds'), (65, 'https://thehackernews.com/2022/10/russian-hacker-arrested-in-india-for.html', 'Russian Hacker Arrested in India for Reportedly Helping Students Cheat in JEE-Main Exam'), (66, 'https://thehackernews.com/2022/10/experts-warn-of-new-ratmilad-android.html', 'Experts Warn of New RatMilad Android Spyware Targeting Enterprise Devices'), (67, 'https://thehackernews.com/2022/10/telstra-telecom-suffers-data-breach.html', 'Telstra Telecom Suffers Data Breach Potentially Exposing Employee Information'), (68, 'https://thehackernews.com/2022/10/fbi-cisa-and-nsa-reveal-how-hackers.html', 'FBI, CISA, and NSA Reveal How Hackers Targeted a Defense Industrial Base Organization'), (69, 'https://thehackernews.com/2022/10/want-more-secure-software-start.html', 'Want More Secure Software? Start Recognizing Security-Skilled Developers'), (70, 'https://thehackernews.com/2022/10/canadian-netwalker-ransomware-affiliate.html', 'Canadian Netwalker Ransomware Affiliate Sentenced to 20 Years in U.S. Prison'), (71, 'https://thehackernews.com/2022/10/mitigation-for-exchange-zero-days.html', 'Mitigation for Exchange Zero-Days Bypassed! Microsoft Issues New Workarounds'), (72, 'https://thehackernews.com/2022/10/russian-hacker-arrested-in-india-for.html', 'Russian Hacker Arrested in India for Reportedly Helping Students Cheat in JEE-Main Exam'), (108, 'https://thehackernews.com/2022/10/experts-warn-of-new-ratmilad-android.html', 'Experts Warn of New RatMilad Android Spyware Targeting Enterprise Devices'), (109, 'https://thehackernews.com/2022/10/telstra-telecom-suffers-data-breach.html', 'Telstra Telecom Suffers Data Breach Potentially Exposing Employee Information'), (110, 'https://thehackernews.com/2022/10/fbi-cisa-and-nsa-reveal-how-hackers.html', 'FBI, CISA, and NSA Reveal How Hackers Targeted a Defense Industrial Base Organization'), (111, 'https://thehackernews.com/2022/10/want-more-secure-software-start.html', 'Want More Secure Software? Start Recognizing Security-Skilled Developers'), (112, 'https://thehackernews.com/2022/10/canadian-netwalker-ransomware-affiliate.html', 'Canadian Netwalker Ransomware Affiliate Sentenced to 20 Years in U.S. Prison'), (113, 'https://thehackernews.com/2022/10/mitigation-for-exchange-zero-days.html', 'Mitigation for Exchange Zero-Days Bypassed! Microsoft Issues New Workarounds'), (114, 'https://thehackernews.com/2022/10/russian-hacker-arrested-in-india-for.html', 'Russian Hacker Arrested in India for Reportedly Helping Students Cheat in JEE-Main Exam'), (115, 'https://thehackernews.com/2022/10/experts-warn-of-new-ratmilad-android.html', 'Experts Warn of New RatMilad Android Spyware Targeting Enterprise Devices'), (116, 'https://thehackernews.com/2022/10/telstra-telecom-suffers-data-breach.html', 'Telstra Telecom Suffers Data Breach Potentially Exposing Employee Information'), (117, 'https://thehackernews.com/2022/10/fbi-cisa-and-nsa-reveal-how-hackers.html', 'FBI, CISA, and NSA Reveal How Hackers Targeted a Defense Industrial Base Organization'), (118, 'https://thehackernews.com/2022/10/want-more-secure-software-start.html', 'Want More Secure Software? Start Recognizing Security-Skilled Developers'), (119, 'https://thehackernews.com/2022/10/canadian-netwalker-ransomware-affiliate.html', 'Canadian Netwalker Ransomware Affiliate Sentenced to 20 Years in U.S. Prison'), (120, 'https://thehackernews.com/2022/10/mitigation-for-exchange-zero-days.html', 'Mitigation for Exchange Zero-Days Bypassed! Microsoft Issues New Workarounds'), (121, 'https://thehackernews.com/2022/10/russian-hacker-arrested-in-india-for.html', 'Russian Hacker Arrested in India for Reportedly Helping Students Cheat in JEE-Main Exam'), (122, 'https://thehackernews.com/2022/10/experts-warn-of-new-ratmilad-android.html', 'Experts Warn of New RatMilad Android Spyware Targeting Enterprise Devices'), (123, 'https://thehackernews.com/2022/10/telstra-telecom-suffers-data-breach.html', 'Telstra Telecom Suffers Data Breach Potentially Exposing Employee Information'), (124, 'https://thehackernews.com/2022/10/fbi-cisa-and-nsa-reveal-how-hackers.html', 'FBI, CISA, and NSA Reveal How Hackers Targeted a Defense Industrial Base Organization'), (125, 'https://thehackernews.com/2022/10/want-more-secure-software-start.html', 'Want More Secure Software? Start Recognizing Security-Skilled Developers'), (126, 'https://thehackernews.com/2022/10/canadian-netwalker-ransomware-affiliate.html', 'Canadian Netwalker Ransomware Affiliate Sentenced to 20 Years in U.S. Prison'), (127, 'https://thehackernews.com/2022/10/mitigation-for-exchange-zero-days.html', 'Mitigation for Exchange Zero-Days Bypassed! Microsoft Issues New Workarounds'), (128, 'https://thehackernews.com/2022/10/russian-hacker-arrested-in-india-for.html', 'Russian Hacker Arrested in India for Reportedly Helping Students Cheat in JEE-Main Exam'), (129, 'https://thehackernews.com/2022/10/experts-warn-of-new-ratmilad-android.html', 'Experts Warn of New RatMilad Android Spyware Targeting Enterprise Devices'), (130, 'https://thehackernews.com/2022/10/telstra-telecom-suffers-data-breach.html', 'Telstra Telecom Suffers Data Breach Potentially Exposing Employee Information'), (131, 'https://thehackernews.com/2022/10/fbi-cisa-and-nsa-reveal-how-hackers.html', 'FBI, CISA, and NSA Reveal How Hackers Targeted a Defense Industrial Base Organization'), (132, 'https://thehackernews.com/2022/10/want-more-secure-software-start.html', 'Want More Secure Software? Start Recognizing Security-Skilled Developers'), (133, 'https://thehackernews.com/2022/10/canadian-netwalker-ransomware-affiliate.html', 'Canadian Netwalker Ransomware Affiliate Sentenced to 20 Years in U.S. Prison'), (134, 'https://thehackernews.com/2022/10/mitigation-for-exchange-zero-days.html', 'Mitigation for Exchange Zero-Days Bypassed! Microsoft Issues New Workarounds'), (135, 'https://thehackernews.com/2022/10/russian-hacker-arrested-in-india-for.html', 'Russian Hacker Arrested in India for Reportedly Helping Students Cheat in JEE-Main Exam'), (136, 'https://thehackernews.com/2022/10/experts-warn-of-new-ratmilad-android.html', 'Experts Warn of New RatMilad Android Spyware Targeting Enterprise Devices'), (137, 'https://thehackernews.com/2022/10/telstra-telecom-suffers-data-breach.html', 'Telstra Telecom Suffers Data Breach Potentially Exposing Employee Information'), (138, 'https://thehackernews.com/2022/10/fbi-cisa-and-nsa-reveal-how-hackers.html', 'FBI, CISA, and NSA Reveal How Hackers Targeted a Defense Industrial Base Organization'), (139, 'https://thehackernews.com/2022/10/want-more-secure-software-start.html', 'Want More Secure Software? Start Recognizing Security-Skilled Developers'), (140, 'https://thehackernews.com/2022/10/canadian-netwalker-ransomware-affiliate.html', 'Canadian Netwalker Ransomware Affiliate Sentenced to 20 Years in U.S. Prison'), (141, 'https://thehackernews.com/2022/10/mitigation-for-exchange-zero-days.html', 'Mitigation for Exchange Zero-Days Bypassed! Microsoft Issues New Workarounds'), (142, 'https://thehackernews.com/2022/10/russian-hacker-arrested-in-india-for.html', 'Russian Hacker Arrested in India for Reportedly Helping Students Cheat in JEE-Main Exam'), (143, 'https://thehackernews.com/2022/10/experts-warn-of-new-ratmilad-android.html', 'Experts Warn of New RatMilad Android Spyware Targeting Enterprise Devices'), (144, 'https://thehackernews.com/2022/10/telstra-telecom-suffers-data-breach.html', 'Telstra Telecom Suffers Data Breach Potentially Exposing Employee Information'), (145, 'https://thehackernews.com/2022/10/fbi-cisa-and-nsa-reveal-how-hackers.html', 'FBI, CISA, and NSA Reveal How Hackers Targeted a Defense Industrial Base Organization'), (146, 'https://thehackernews.com/2022/10/want-more-secure-software-start.html', 'Want More Secure Software? Start Recognizing Security-Skilled Developers'), (147, 'https://thehackernews.com/2022/10/canadian-netwalker-ransomware-affiliate.html', 'Canadian Netwalker Ransomware Affiliate Sentenced to 20 Years in U.S. Prison'), (148, 'https://thehackernews.com/2022/10/mitigation-for-exchange-zero-days.html', 'Mitigation for Exchange Zero-Days Bypassed! Microsoft Issues New Workarounds'), (149, 'https://thehackernews.com/2022/10/russian-hacker-arrested-in-india-for.html', 'Russian Hacker Arrested in India for Reportedly Helping Students Cheat in JEE-Main Exam'), (150, 'https://thehackernews.com/2022/10/experts-warn-of-new-ratmilad-android.html', 'Experts Warn of New RatMilad Android Spyware Targeting Enterprise Devices'), (151, 'https://thehackernews.com/2022/10/telstra-telecom-suffers-data-breach.html', 'Telstra Telecom Suffers Data Breach Potentially Exposing Employee Information'), (152, 'https://thehackernews.com/2022/10/fbi-cisa-and-nsa-reveal-how-hackers.html', 'FBI, CISA, and NSA Reveal How Hackers Targeted a Defense Industrial Base Organization'), (153, 'https://thehackernews.com/2022/10/want-more-secure-software-start.html', 'Want More Secure Software? Start Recognizing Security-Skilled Developers'), (154, 'https://thehackernews.com/2022/10/canadian-netwalker-ransomware-affiliate.html', 'Canadian Netwalker Ransomware Affiliate Sentenced to 20 Years in U.S. Prison'), (155, 'https://thehackernews.com/2022/10/mitigation-for-exchange-zero-days.html', 'Mitigation for Exchange Zero-Days Bypassed! Microsoft Issues New Workarounds'), (156, 'https://thehackernews.com/2022/10/russian-hacker-arrested-in-india-for.html', 'Russian Hacker Arrested in India for Reportedly Helping Students Cheat in JEE-Main Exam'), (157, 'https://thehackernews.com/2022/10/experts-warn-of-new-ratmilad-android.html', 'Experts Warn of New RatMilad Android Spyware Targeting Enterprise Devices'), (158, 'https://thehackernews.com/2022/10/telstra-telecom-suffers-data-breach.html', 'Telstra Telecom Suffers Data Breach Potentially Exposing Employee Information'), (159, 'https://thehackernews.com/2022/10/fbi-cisa-and-nsa-reveal-how-hackers.html', 'FBI, CISA, and NSA Reveal How Hackers Targeted a Defense Industrial Base Organization'), (160, 'https://thehackernews.com/2022/10/want-more-secure-software-start.html', 'Want More Secure Software? Start Recognizing Security-Skilled Developers'), (161, 'https://thehackernews.com/2022/10/canadian-netwalker-ransomware-affiliate.html', 'Canadian Netwalker Ransomware Affiliate Sentenced to 20 Years in U.S. Prison'), (162, 'https://thehackernews.com/2022/10/mitigation-for-exchange-zero-days.html', 'Mitigation for Exchange Zero-Days Bypassed! Microsoft Issues New Workarounds'), (163, 'https://thehackernews.com/2022/10/russian-hacker-arrested-in-india-for.html', 'Russian Hacker Arrested in India for Reportedly Helping Students Cheat in JEE-Main Exam'), (164, 'https://thehackernews.com/2022/10/experts-warn-of-new-ratmilad-android.html', 'Experts Warn of New RatMilad Android Spyware Targeting Enterprise Devices'), (165, 'https://thehackernews.com/2022/10/telstra-telecom-suffers-data-breach.html', 'Telstra Telecom Suffers Data Breach Potentially Exposing Employee Information'), (166, 'https://thehackernews.com/2022/10/fbi-cisa-and-nsa-reveal-how-hackers.html', 'FBI, CISA, and NSA Reveal How Hackers Targeted a Defense Industrial Base Organization'), (167, 'https://thehackernews.com/2022/10/want-more-secure-software-start.html', 'Want More Secure Software? Start Recognizing Security-Skilled Developers'), (168, 'https://thehackernews.com/2022/10/canadian-netwalker-ransomware-affiliate.html', 'Canadian Netwalker Ransomware Affiliate Sentenced to 20 Years in U.S. Prison'), (169, 'https://thehackernews.com/2022/10/mitigation-for-exchange-zero-days.html', 'Mitigation for Exchange Zero-Days Bypassed! Microsoft Issues New Workarounds'), (170, 'https://thehackernews.com/2022/10/russian-hacker-arrested-in-india-for.html', 'Russian Hacker Arrested in India for Reportedly Helping Students Cheat in JEE-Main Exam'), (171, 'https://thehackernews.com/2022/10/experts-warn-of-new-ratmilad-android.html', 'Experts Warn of New RatMilad Android Spyware Targeting Enterprise Devices'), (172, 'https://thehackernews.com/2022/10/telstra-telecom-suffers-data-breach.html', 'Telstra Telecom Suffers Data Breach Potentially Exposing Employee Information'), (173, 'https://thehackernews.com/2022/10/fbi-cisa-and-nsa-reveal-how-hackers.html', 'FBI, CISA, and NSA Reveal How Hackers Targeted a Defense Industrial Base Organization'), (174, 'https://thehackernews.com/2022/10/want-more-secure-software-start.html', 'Want More Secure Software? Start Recognizing Security-Skilled Developers'), (175, 'https://thehackernews.com/2022/10/canadian-netwalker-ransomware-affiliate.html', 'Canadian Netwalker Ransomware Affiliate Sentenced to 20 Years in U.S. Prison'), (176, 'https://thehackernews.com/2022/10/mitigation-for-exchange-zero-days.html', 'Mitigation for Exchange Zero-Days Bypassed! Microsoft Issues New Workarounds'), (177, 'https://thehackernews.com/2022/10/russian-hacker-arrested-in-india-for.html', 'Russian Hacker Arrested in India for Reportedly Helping Students Cheat in JEE-Main Exam'))\n"
     ]
    }
   ],
   "source": [
    "conn_cursor.execute(\"select * from urltitle\")\n",
    "output=conn_cursor.fetchall()\n",
    "print(output)"
   ]
  },
  {
   "cell_type": "code",
   "execution_count": 18,
   "metadata": {},
   "outputs": [],
   "source": [
    "conn_cursor.close()"
   ]
  },
  {
   "cell_type": "code",
   "execution_count": null,
   "metadata": {},
   "outputs": [],
   "source": []
  }
 ],
 "metadata": {
  "kernelspec": {
   "display_name": "Python 3 (ipykernel)",
   "language": "python",
   "name": "python3"
  },
  "language_info": {
   "codemirror_mode": {
    "name": "ipython",
    "version": 3
   },
   "file_extension": ".py",
   "mimetype": "text/x-python",
   "name": "python",
   "nbconvert_exporter": "python",
   "pygments_lexer": "ipython3",
   "version": "3.9.2"
  }
 },
 "nbformat": 4,
 "nbformat_minor": 4
}
